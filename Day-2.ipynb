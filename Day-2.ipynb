{
 "cells": [
  {
   "cell_type": "markdown",
   "id": "e2235443-bdcd-4b38-b9a9-30cf53c358e3",
   "metadata": {},
   "source": [
    "# List Comprehensions\n",
    "\n",
    "List comprehensions provide a concise way to create lists. They consist of brackets containing an expression followed by a for clause, and then zero or more for or if clauses. The expressions can be anything, meaning you can put in all kinds of objects in lists.\r\n",
    ":\r\n",
    "The basic syntax \n",
    "\n",
    "[expression for item in iterable if condition]\r\n",
    "te to True."
   ]
  },
  {
   "cell_type": "markdown",
   "id": "9ebadf14-fa8b-4061-9c01-60b853734d63",
   "metadata": {},
   "source": [
    "## Basic\n",
    "1) Create a list of squares of all even numbers between 1 and 20."
   ]
  },
  {
   "cell_type": "code",
   "execution_count": 2,
   "id": "3076c2ae-5350-46f7-ad9f-100b8a4fc8b0",
   "metadata": {},
   "outputs": [
    {
     "name": "stdout",
     "output_type": "stream",
     "text": [
      "[4, 16, 36, 64, 100, 144, 196, 256, 324]\n"
     ]
    }
   ],
   "source": [
    "mylist = [x**2 for x in range(1,20) if x%2==0]\n",
    "print(mylist)"
   ]
  },
  {
   "cell_type": "markdown",
   "id": "67c6ace2-b925-433a-a189-31f757d07f76",
   "metadata": {},
   "source": [
    "2. Given a list, use a list comprehension to create a new list containing only the positive numbers from the original list.\n",
    "\n",
    "    Example Input: [-2, -1, 0, 1, 2];\n",
    "    Expected Output: [1, 2]"
   ]
  },
  {
   "cell_type": "code",
   "execution_count": 8,
   "id": "3e8a9163-a2bf-4187-90de-44420bf0b9f6",
   "metadata": {},
   "outputs": [
    {
     "name": "stdout",
     "output_type": "stream",
     "text": [
      "[1, 2]\n"
     ]
    }
   ],
   "source": [
    "list1=[-2,-1,0,1,2]\n",
    "\n",
    "list2=[list1[x] for x in list1 if list1[x]>0]\n",
    "print(list2)"
   ]
  },
  {
   "cell_type": "markdown",
   "id": "4d8e26f3-ee58-46e8-9c08-d9ff8383edce",
   "metadata": {},
   "source": [
    "3.  Create a list that contains the length of each word in a given sentence, but only for words that are not \"the\".\r\n",
    "    -> \r\n",
    "Example Input: \"The quick brown fox jumps over the lazy dog    -> \"\r\n",
    "Expected Output: [5, 5, 3, 5, 4, 4, 3]"
   ]
  },
  {
   "cell_type": "code",
   "execution_count": 26,
   "id": "6c499e19-590a-4101-ab69-866feafe4e9b",
   "metadata": {},
   "outputs": [
    {
     "name": "stdin",
     "output_type": "stream",
     "text": [
      "Enter a string:  This is the history of the world\n"
     ]
    },
    {
     "name": "stdout",
     "output_type": "stream",
     "text": [
      "['This', 'is', 'the', 'history', 'of', 'the', 'world']\n",
      "[4, 2, 7, 2, 5]\n"
     ]
    }
   ],
   "source": [
    "string1=input(\"Enter a string: \")\n",
    "words=string1.split()\n",
    "print(words)\n",
    "string_list=[len(word) for word in words if word.lower()!=\"the\"]\n",
    "print(string_list)"
   ]
  },
  {
   "cell_type": "markdown",
   "id": "f6feec05-4ddd-49e1-9ac9-62fac6555f33",
   "metadata": {},
   "source": [
    "4. Given a list of strings, use a list comprehension to convert them all to uppercase.\n",
    "\n",
    "    Example Input: [\"hello\", \"world\", \"python\"];\n",
    "    Expected Output: [\"HELLO\", \"WORLD\", \"PYTHON\"]"
   ]
  },
  {
   "cell_type": "code",
   "execution_count": 32,
   "id": "06775891-5367-497f-be9d-3d7bda64071f",
   "metadata": {},
   "outputs": [
    {
     "name": "stdout",
     "output_type": "stream",
     "text": [
      "['HELLO', 'WORLD', 'PYTHON']\n"
     ]
    }
   ],
   "source": [
    "list1=[\"hello\", \"world\", \"python\"]\n",
    "list1[1]\n",
    "\n",
    "list2=[x.upper() for x in list1]\n",
    "print(list2)"
   ]
  },
  {
   "cell_type": "markdown",
   "id": "71739b66-96cf-477b-beae-4e06add4c6af",
   "metadata": {},
   "source": [
    "5. From a list of numbers, create a new list which contains every number in the original list which is divisible by 5.\n",
    "\n",
    "    Example Input: [10, 20, 33, 46, 55]\n",
    "    ;Expected Output: [10, 20, 55]"
   ]
  },
  {
   "cell_type": "code",
   "execution_count": 33,
   "id": "a598ece8-36f7-4a34-85a2-dad0ce0eb3f1",
   "metadata": {},
   "outputs": [
    {
     "name": "stdout",
     "output_type": "stream",
     "text": [
      "[10, 20, 55]\n"
     ]
    }
   ],
   "source": [
    "list1=[10, 20, 33, 46, 55]\n",
    "\n",
    "list2=[x for x in list1 if x%5==0]\n",
    "print(list2)"
   ]
  },
  {
   "cell_type": "markdown",
   "id": "125e43f6-a1de-49d0-a1f1-d80c75f50d2b",
   "metadata": {},
   "source": [
    "## Intermediate\n",
    "\n",
    "1. Use list comprehension to filter out only those words from a list that start with a vowel."
   ]
  },
  {
   "cell_type": "code",
   "execution_count": 39,
   "id": "220557ee-0174-4fc2-841b-f0a70505f9f5",
   "metadata": {},
   "outputs": [
    {
     "name": "stdout",
     "output_type": "stream",
     "text": [
      "['is', 'of']\n"
     ]
    }
   ],
   "source": [
    "list1=['This', 'is', 'the', 'history', 'of', 'the', 'world']\n",
    "vowel=[\"a\", \"e\", \"i\", \"o\", \"u\"]\n",
    "\n",
    "list2=[x for x in list1 if x[0].lower() in vowel]\n",
    "print(list2)"
   ]
  },
  {
   "cell_type": "markdown",
   "id": "7452ebb9-2fa2-48ce-945e-59467906d264",
   "metadata": {},
   "source": [
    "2.  Given a mixed list of integers and strings, use a list comprehension to create a new list that contains only the integers.\r\n",
    "    \r\n",
    "Example Input: [1, 'apple', 2, 'banana', 3, 'carrot;'    ]\r\n",
    "Expected Output: [1, 2, 3]"
   ]
  },
  {
   "cell_type": "code",
   "execution_count": 44,
   "id": "dd0a2f5b-6853-46d1-b48c-5d674e82765c",
   "metadata": {},
   "outputs": [
    {
     "name": "stdout",
     "output_type": "stream",
     "text": [
      "[1, 2, 3]\n"
     ]
    }
   ],
   "source": [
    "list1=[1, 'apple', 2, 'banana', 3, 'carrot']\n",
    "\n",
    "list2=[x for x in list1 if isinstance(x, int)]\n",
    "print(list2)"
   ]
  },
  {
   "cell_type": "markdown",
   "id": "af6c6a08-71df-4331-b3fd-e997ff201419",
   "metadata": {},
   "source": [
    "3.  Given two lists, use a list comprehension to create a list of elements that are common to both lists, without duplicates."
   ]
  },
  {
   "cell_type": "code",
   "execution_count": 47,
   "id": "b9533663-2c76-4b50-ac18-7105b9faf0d5",
   "metadata": {},
   "outputs": [
    {
     "name": "stdout",
     "output_type": "stream",
     "text": [
      "[4, 5]\n"
     ]
    }
   ],
   "source": [
    "list1 = [1, 2, 3, 4, 5]\n",
    "list2 = [4, 5, 6, 7, 8]\n",
    "\n",
    "list3=[x for x in list1 if x in list2]\n",
    "\n",
    "print(list3)"
   ]
  },
  {
   "cell_type": "markdown",
   "id": "d26e29d8-d6ac-4c22-9002-76b90ec0b595",
   "metadata": {},
   "source": [
    "## Advanced\n",
    "1. Generate a matrix where the value at position [i][j] is \n",
    "�\r\n",
    "i×j."
   ]
  },
  {
   "cell_type": "code",
   "execution_count": 54,
   "id": "0e9c52d7-a76c-45b8-b297-0fa5e3b2ff6c",
   "metadata": {},
   "outputs": [
    {
     "name": "stdout",
     "output_type": "stream",
     "text": [
      "[[1, 2, 3, 4], [2, 4, 6, 8], [3, 6, 9, 12]]\n"
     ]
    }
   ],
   "source": [
    "# It requires a nested list comprehension\n",
    "\n",
    "list1=[[i*j for i in range(1,5)] for j in range(1,4)]\n",
    "print(list1)"
   ]
  },
  {
   "cell_type": "markdown",
   "id": "9306d852-ae38-4e10-aca2-17da094df5ee",
   "metadata": {},
   "source": [
    "2. Flattening a Matrix: Given a matrix (a list of lists), use a list comprehension to flatten it into a single list containing all the elements of the sublists in order.\n",
    "\n",
    "    Example Input: [[1, 2, 3], [4, 5, 6], [7, 8, 9]]\n",
    "    Expected Output: [1, 2, 3, 4, 5, 6, 7, 8, 9]"
   ]
  },
  {
   "cell_type": "code",
   "execution_count": 71,
   "id": "7124e1dc-4f2e-4ec0-bc94-6f15824dd362",
   "metadata": {},
   "outputs": [
    {
     "name": "stdout",
     "output_type": "stream",
     "text": [
      "[1, 2, 3, 4, 5, 6, 7, 8, 9]\n"
     ]
    }
   ],
   "source": [
    "list1=[[1, 2, 3], [4, 5, 6], [7, 8, 9]]\n",
    "\n",
    "list2=[i for j in list1 for i in j]\n",
    "print(list2)"
   ]
  },
  {
   "cell_type": "markdown",
   "id": "eacbe1e1-d585-45bf-8dc0-3b780e98cb48",
   "metadata": {},
   "source": [
    "3. Create a 5x5 matrix where each element is the square of its row index if the row index is even, or the square of its column index if the row index is odd.\n",
    "\n",
    "Expected output:\n",
    "[[0, 0, 0, 0, 0], \r\n",
    " [1, 4, 9, 16, 25], \r\n",
    " [4, 4, 4, 4, 4], \r\n",
    " [1, 4, 9, 16, 25], \r\n",
    " [16, 16, 16, 16, 16]]\r\n"
   ]
  },
  {
   "cell_type": "code",
   "execution_count": 79,
   "id": "156727a3-8bd0-47f2-9235-3e20b81f3ac6",
   "metadata": {},
   "outputs": [
    {
     "name": "stdout",
     "output_type": "stream",
     "text": [
      "[[0, 0, 0, 0, 0], [0, 1, 4, 9, 16], [4, 4, 4, 4, 4], [0, 1, 4, 9, 16], [16, 16, 16, 16, 16]]\n"
     ]
    }
   ],
   "source": [
    "list1=[[j**2 if j%2==0 else i**2 for i in range(0,5)] for j in range(0,5)]\n",
    "\n",
    "print(list1)"
   ]
  },
  {
   "cell_type": "code",
   "execution_count": null,
   "id": "f61c18ab-4a36-41b8-8672-3aef783cfead",
   "metadata": {},
   "outputs": [],
   "source": []
  },
  {
   "cell_type": "code",
   "execution_count": null,
   "id": "79ea8d8e-6a57-463c-895f-ad809cbebe45",
   "metadata": {},
   "outputs": [],
   "source": []
  },
  {
   "cell_type": "markdown",
   "id": "8e892d69-6df3-4d60-b667-e5af231567d8",
   "metadata": {},
   "source": [
    "# Problem solving question\n",
    "\n",
    "## Exercise: Word Length Encoding\n",
    "Problem Statement:\n",
    "\n",
    "You are given a sentence (a string).\n",
    "\n",
    "\n",
    "Your task is to encode this sentence in a specific format: each word should be replaced with a string that contains the first letter of the word followed by the length of the word. For example, \"ChatGPT\" becomes \"C7\".\n",
    "\n",
    "\n",
    "Ignore punctuation and treat all words as separated by spaces.\n",
    "\n",
    "\n",
    "Assume the sentence will not have any special characters or numbers, just words and possibly punctuation like commas and periods.\n",
    "\n",
    "\n",
    "Input: \"Hello world, this is an example.\"\n",
    "\n",
    "\n",
    "Expected Output: ['H5', 'w5', 't4', 'i2', 'a2', 'e7']\n",
    "\n",
    "\n",
    "\n",
    "This exercise will test your ability to manipulate strings, use conditional statements, and effectively apply list comprehensions. It's a bit of a step up from the basic exercises but should be a good challenge based on what you've learned so far."
   ]
  },
  {
   "cell_type": "code",
   "execution_count": 94,
   "id": "6c61a80b-86de-4a7b-9c96-7afac0c13c3e",
   "metadata": {},
   "outputs": [
    {
     "name": "stdout",
     "output_type": "stream",
     "text": [
      "Hello\n",
      "world\n",
      "this\n",
      "is\n",
      "an\n",
      "example\n",
      "['H5', 'w6', 't4', 'i2', 'a2', 'e8']\n"
     ]
    }
   ],
   "source": [
    "import string\n",
    "\n",
    "str1=\"Hello world, this is an example.\"\n",
    "\n",
    "str_list=str1.split()\n",
    "#print(str_list)\n",
    "\n",
    "encoded_wrods=[]\n",
    "for words in str_list:\n",
    "\n",
    "    cleaned_words=''.join(char for char in words if char.isalpha())\n",
    "    print(cleaned_words)\n",
    "    first=words[0]\n",
    "    length_word=len(words)\n",
    "    new_word=first+str(length_word)\n",
    "    encoded_wrods.append(new_word)\n",
    "\n",
    "print(encoded_wrods)\n",
    "    "
   ]
  },
  {
   "cell_type": "code",
   "execution_count": null,
   "id": "7ad9b350-b648-461a-9abe-5ec13181c621",
   "metadata": {},
   "outputs": [],
   "source": []
  }
 ],
 "metadata": {
  "kernelspec": {
   "display_name": "Python 3 (ipykernel)",
   "language": "python",
   "name": "python3"
  },
  "language_info": {
   "codemirror_mode": {
    "name": "ipython",
    "version": 3
   },
   "file_extension": ".py",
   "mimetype": "text/x-python",
   "name": "python",
   "nbconvert_exporter": "python",
   "pygments_lexer": "ipython3",
   "version": "3.11.0"
  }
 },
 "nbformat": 4,
 "nbformat_minor": 5
}
