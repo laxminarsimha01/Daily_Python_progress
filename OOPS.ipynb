{
 "cells": [
  {
   "cell_type": "code",
   "execution_count": 1,
   "id": "70083efb",
   "metadata": {},
   "outputs": [
    {
     "name": "stdout",
     "output_type": "stream",
     "text": [
      "The Harley Davidson of model Sports is of price 1510000\n",
      "The Royal Enfeild of model Mountain is of price 705000\n"
     ]
    }
   ],
   "source": [
    "# Basic Classes, Objects and Method Initialization\n",
    "\n",
    "class Bike:  # Defination of class\n",
    "    name=\"\"\n",
    "    model=\"\"\n",
    "    gears=0\n",
    "    cost=0\n",
    "    \n",
    "    back_seat=0\n",
    "    mirrors=0\n",
    "    \n",
    "    def calcost(self):  # Initiation of methods\n",
    "        return self.cost+self.back_seat+self.mirrors\n",
    "    \n",
    "\n",
    "#     *****Its a Constructer*****\n",
    "#     def __init__(self):\n",
    "#         pass\n",
    "#     \n",
    "\n",
    "bike1=Bike()  # Object intiation\n",
    "bike1.name=\"Harley Davidson\"\n",
    "bike1.model=\"Sports\"\n",
    "bike1.gears=5\n",
    "bike1.cost=1500000\n",
    "bike1.back_seat=7500\n",
    "bike1.mirrors=2500\n",
    "\n",
    "print(f\"The {bike1.name} of model {bike1.model} is of price {bike1.calcost()}\")\n",
    "\n",
    "\n",
    "bike2=Bike()\n",
    "bike2.name=\"Royal Enfeild\"\n",
    "bike2.model=\"Mountain\"\n",
    "bike2.gears=5\n",
    "bike2.cost=700000\n",
    "bike2.mirrors=1500\n",
    "bike2.back_seat=3500\n",
    "\n",
    "print(f\"The {bike2.name} of model {bike2.model} is of price {bike2.calcost()}\")\n"
   ]
  },
  {
   "cell_type": "code",
   "execution_count": 2,
   "id": "f5f58742",
   "metadata": {},
   "outputs": [],
   "source": [
    "# Python Inheritance\n",
    "\n",
    "class Animal:  # Main class (Parent Class)\n",
    "    \n",
    "    name=\"\"\n",
    "    def eat(self):\n",
    "        print(self.name, \" can eat\")\n",
    "        \n",
    "class Dog(Animal): # Inherit from animal (Child class)\n",
    "    \n",
    "    def Display(self):\n",
    "        print(\"My name is\", self.name)"
   ]
  },
  {
   "cell_type": "code",
   "execution_count": null,
   "id": "39cb5b5d",
   "metadata": {},
   "outputs": [],
   "source": [
    "    "
   ]
  }
 ],
 "metadata": {
  "kernelspec": {
   "display_name": "Python 3 (ipykernel)",
   "language": "python",
   "name": "python3"
  },
  "language_info": {
   "codemirror_mode": {
    "name": "ipython",
    "version": 3
   },
   "file_extension": ".py",
   "mimetype": "text/x-python",
   "name": "python",
   "nbconvert_exporter": "python",
   "pygments_lexer": "ipython3",
   "version": "3.9.13"
  }
 },
 "nbformat": 4,
 "nbformat_minor": 5
}
