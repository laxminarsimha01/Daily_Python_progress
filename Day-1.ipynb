{
 "cells": [
  {
   "cell_type": "markdown",
   "id": "3abce640-ce5a-4c0b-87ac-0a66b4e29c13",
   "metadata": {},
   "source": [
    "## Exercise-1 (Variables):\n",
    "Create variables to store your name, age, and a fun fact about you. Print these out in a sentence."
   ]
  },
  {
   "cell_type": "code",
   "execution_count": 1,
   "id": "b73921a7-0af5-4bfd-b93d-878a7777584c",
   "metadata": {},
   "outputs": [
    {
     "name": "stdout",
     "output_type": "stream",
     "text": [
      "Hi my self Laxmi Narsimha Reddy Nalla, I am 22 and the fun fact is I love python\n"
     ]
    }
   ],
   "source": [
    "name = \"Laxmi Narsimha Reddy Nalla\"\n",
    "age = 22\n",
    "fact = \"I love python\"\n",
    "\n",
    "print (f\"Hi my self {name}, I am {age} and the fun fact is {fact}\")"
   ]
  },
  {
   "cell_type": "markdown",
   "id": "68934d95-71a6-4ce8-ad5f-db61d4b4479c",
   "metadata": {},
   "source": [
    "## Exercise-2 (If else)\n",
    "Write an if statement that checks if a number is greater than 10 and prints a message if it is true."
   ]
  },
  {
   "cell_type": "code",
   "execution_count": 2,
   "id": "876ee4a7-556b-4b9a-b60b-fa67a24dacb5",
   "metadata": {},
   "outputs": [
    {
     "name": "stdin",
     "output_type": "stream",
     "text": [
      "Enter a number 11\n"
     ]
    },
    {
     "name": "stdout",
     "output_type": "stream",
     "text": [
      "It's TRUE, 11 is greater than 10\n"
     ]
    }
   ],
   "source": [
    "n=int(input(\"Enter a number\"))\n",
    "if n>10:\n",
    "    print(f\"It's TRUE, {n} is greater than 10\")\n",
    "else:\n",
    "    print(\"False\")"
   ]
  },
  {
   "cell_type": "markdown",
   "id": "f24a5f37-c5a2-4cb6-8c0f-e50cb7b310c0",
   "metadata": {},
   "source": [
    "## Exercise-3 (Functions)\n",
    "Write a function greet that takes a name as a parameter and prints a greeting."
   ]
  },
  {
   "cell_type": "code",
   "execution_count": 3,
   "id": "d89231c7-3fa5-484d-9e0f-76d9f3c678b5",
   "metadata": {},
   "outputs": [
    {
     "name": "stdout",
     "output_type": "stream",
     "text": [
      "Good Morning Amulya, how is your day!\n"
     ]
    }
   ],
   "source": [
    "def greet(name):\n",
    "    print(f\"Good Morning {name}, how is your day!\")\n",
    "\n",
    "greet(\"Amulya\")"
   ]
  },
  {
   "cell_type": "markdown",
   "id": "2af69fb3-fc63-4ac7-9b6e-f22f106674c3",
   "metadata": {},
   "source": [
    "## Exercise-4 (Lists)\n",
    "Lists are used to store multiple items in a single variable. They are ordered, changeable, and allow duplicate values."
   ]
  },
  {
   "cell_type": "code",
   "execution_count": 4,
   "id": "9809c62d-8d3f-4a3e-a5b2-b29324d14f17",
   "metadata": {},
   "outputs": [
    {
     "name": "stdout",
     "output_type": "stream",
     "text": [
      "Banana\n",
      "Apple\n",
      "Kiwi\n",
      "Orange\n"
     ]
    }
   ],
   "source": [
    "MyList=[\"Banana\", \"Apple\", \"Kiwi\", \"Orange\"]\n",
    "\n",
    "for fruits in MyList:\n",
    "    print(fruits)"
   ]
  },
  {
   "cell_type": "markdown",
   "id": "3b55deeb-9248-43de-a074-03a1701d70e5",
   "metadata": {},
   "source": [
    "## Exercise-5 (Loops)\n",
    "Write a while loop that counts from 1 to 10 and prints each number."
   ]
  },
  {
   "cell_type": "code",
   "execution_count": 1,
   "id": "1d69ae80-f049-4d37-98e6-fe0f0137765e",
   "metadata": {},
   "outputs": [
    {
     "name": "stdout",
     "output_type": "stream",
     "text": [
      "1\n",
      "2\n",
      "3\n",
      "4\n",
      "5\n",
      "6\n",
      "7\n",
      "8\n",
      "9\n",
      "10\n"
     ]
    }
   ],
   "source": [
    "count=1\n",
    "while count<=10:\n",
    "    print(count)\n",
    "    count+=1\n"
   ]
  },
  {
   "cell_type": "markdown",
   "id": "5ebe384c-0d4c-45d2-b555-864a7d4b12c5",
   "metadata": {},
   "source": [
    "# M Exercise-1\n",
    "Try combining functions, lists, and loops in a program. For example, a function that takes a list of numbers and prints each number doubled."
   ]
  },
  {
   "cell_type": "code",
   "execution_count": 2,
   "id": "75848390-cf59-4e37-81f4-cde31b0ea54c",
   "metadata": {},
   "outputs": [
    {
     "name": "stdout",
     "output_type": "stream",
     "text": [
      "4\n",
      "6\n",
      "8\n",
      "10\n",
      "12\n",
      "14\n"
     ]
    }
   ],
   "source": [
    "def Double(MyList):\n",
    "    for num in MyList:\n",
    "        print(num*2)\n",
    "\n",
    "\n",
    "numlist=[2,3,4,5,6,7]\n",
    "\n",
    "Double(numlist)"
   ]
  },
  {
   "cell_type": "markdown",
   "id": "38d66034-c405-425e-b097-7587f013547d",
   "metadata": {},
   "source": [
    "## Exercise-6 (Dictionaries)\n",
    "Create a dictionary representing a phone book. The keys are names, and the values are phone numbers. Add at least three entries.\n",
    "Print out a specific person's phone number."
   ]
  },
  {
   "cell_type": "code",
   "execution_count": 6,
   "id": "8dbfea3e-993b-4fc4-91fb-f2a667c1729e",
   "metadata": {},
   "outputs": [
    {
     "name": "stdout",
     "output_type": "stream",
     "text": [
      "9908777637\n"
     ]
    }
   ],
   "source": [
    "phone_book={\n",
    "    \"Bhanu\": 9866802855,\n",
    "    \"Amma\": 9908777637,\n",
    "    \"Nana\": 9989502546\n",
    "}\n",
    "\n",
    "print(phone_book[\"Amma\"])"
   ]
  },
  {
   "cell_type": "markdown",
   "id": "52465bb9-733e-439d-8ddb-c948369cd6c1",
   "metadata": {},
   "source": [
    "## Exercise-7 (Exception Handling)\n",
    "Write a program that asks the user for input and converts it to an integer. Use exception handling to catch the error if the user enters something that can't be converted to an integer."
   ]
  },
  {
   "cell_type": "code",
   "execution_count": 9,
   "id": "38dbe52a-d3b1-4cf5-9b8f-00376de1b848",
   "metadata": {},
   "outputs": [
    {
     "name": "stdin",
     "output_type": "stream",
     "text": [
      "Enter a number r\n"
     ]
    },
    {
     "name": "stdout",
     "output_type": "stream",
     "text": [
      "You entered invalid number\n"
     ]
    }
   ],
   "source": [
    "try:\n",
    "    num=int(input(\"Enter a number\"))\n",
    "    print(f\"You entered {num}\")\n",
    "except ValueError:\n",
    "    print(f\"You entered invalid number\")"
   ]
  },
  {
   "cell_type": "markdown",
   "id": "67c3db2e-6d0c-432c-b1db-3688d47ed974",
   "metadata": {},
   "source": [
    "## Exercise-8 (File Input/Output (I/O))\n",
    "Write a program that writes a list of names to a file.\n",
    "Then read the file and print each name."
   ]
  },
  {
   "cell_type": "code",
   "execution_count": 11,
   "id": "1fdd5fb8-c1b3-454a-92b2-54ed9a76245e",
   "metadata": {},
   "outputs": [
    {
     "name": "stdout",
     "output_type": "stream",
     "text": [
      "Bhanu\n",
      "Deepu\n",
      "Amma\n",
      "Nana\n"
     ]
    }
   ],
   "source": [
    "names=[\"Bhanu\", \"Deepu\", \"Amma\", \"Nana\"]\n",
    "\n",
    "with open(\"names.txt\", \"w\") as file:\n",
    "    for name in names:\n",
    "        file.write(name+ \"\\n\")\n",
    "\n",
    "with open(\"names.txt\", \"w\") as file:\n",
    "    for line in names:\n",
    "        print(line.strip())"
   ]
  },
  {
   "cell_type": "markdown",
   "id": "3402b6d6-eb4e-4e7e-827f-decc017a4a2d",
   "metadata": {},
   "source": [
    "# Python Problem\n",
    "\n",
    "Python Problem of the Day: \"Word Frequency in a File\"\n",
    "Problem Statement:\n",
    "Write a Python program that reads a text file and calculates the frequency of each word in the file. The program should output each word along with its frequency. Assume the file contains plain text and words are separated by spaces.\n",
    "\n",
    "Steps to Follow:\n",
    "Read from a File: Open and read the contents of a text file.\n",
    "Process the Text: Split the text into words and count the frequency of each word.\n",
    "Output the Frequencies: Print each word and its corresponding frequency.\n",
    "\n",
    "\n",
    "Exception Handling can be done in File Reading"
   ]
  },
  {
   "cell_type": "code",
   "execution_count": 1,
   "id": "3f70b293-2d45-45ab-9e97-4597a4c21a23",
   "metadata": {},
   "outputs": [
    {
     "name": "stdout",
     "output_type": "stream",
     "text": [
      "bhanu:3\n",
      "deepu:1\n",
      "amma:2\n",
      "nana:2\n",
      "The name with most frequency in the doc is bhanu\n",
      "The name with leasy frequency in the doc is deepu\n"
     ]
    }
   ],
   "source": [
    "names=[\"Bhanu\", \"Deepu\", \"Amma\", \"Nana\", \"Bhanu\", \"Amma\", \"Nana\", \"bhanu\"]\n",
    "\n",
    "with open(\"names.txt\", \"w\") as file:\n",
    "    for name in names:\n",
    "        file.write(name+ \"\\n\")\n",
    "\n",
    "\n",
    "\n",
    "def word_freq(file_name):\n",
    "    word_count={}\n",
    "\n",
    "    try:\n",
    "        with open(file_name, \"r\") as file:\n",
    "            for line in file:\n",
    "                words=line.split()\n",
    "                words=words\n",
    "                for word in words:\n",
    "                    word=word.lower()\n",
    "                    if word in word_count:\n",
    "                        word_count[word]+=1\n",
    "                    else:\n",
    "                        word_count[word]=1\n",
    "\n",
    "\n",
    "\n",
    "        for word,count in word_count.items():\n",
    "            print(f\"{word}:{count}\")\n",
    "    \n",
    "        max_freq=max(word_count, key=word_count.get)\n",
    "        print(f\"The name with most frequency in the doc is {max_freq}\")\n",
    "    \n",
    "        min_freq=min(word_count, key=word_count.get)\n",
    "        print(f\"The name with leasy frequency in the doc is {min_freq}\")\n",
    "\n",
    "    except FileNotFoundError:\n",
    "        print(\"File is not found in the given path\")\n",
    "\n",
    "word_freq('names.txt')\n",
    "\n",
    "\n"
   ]
  },
  {
   "cell_type": "markdown",
   "id": "4f7ae03d-8e91-461b-83e5-db7a32bae5d9",
   "metadata": {},
   "source": [
    "## Modifications if needed\n",
    "Variable Redefinition: Inside the loop for word in words:, you're redefining word with word = word.lower(). While this works, it's generally a good practice to use a new variable for clarity. You could use something like lowercased_word = word.lower().\r\n",
    "\r\n",
    "Duplicate Line: The line words = words is redundant and can be removency.\r\n",
    "\r\n",
    "Error Handling: You've implemented a try-except block for FileNotFoundError, which is excellent. This ensures your program won't crash if the file doesn't exist.\r\n",
    "\r\n",
    "Formatting: While not a functional issue, consistent formatting (like spaces around operators) makes your code more readable.\r\n",
    "\r\n"
   ]
  },
  {
   "cell_type": "code",
   "execution_count": null,
   "id": "b58f15bc-87af-4db5-8ebe-ae4d4bb6c7b2",
   "metadata": {},
   "outputs": [],
   "source": []
  }
 ],
 "metadata": {
  "kernelspec": {
   "display_name": "Python 3 (ipykernel)",
   "language": "python",
   "name": "python3"
  },
  "language_info": {
   "codemirror_mode": {
    "name": "ipython",
    "version": 3
   },
   "file_extension": ".py",
   "mimetype": "text/x-python",
   "name": "python",
   "nbconvert_exporter": "python",
   "pygments_lexer": "ipython3",
   "version": "3.11.0"
  }
 },
 "nbformat": 4,
 "nbformat_minor": 5
}
