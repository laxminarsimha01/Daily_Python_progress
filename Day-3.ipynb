{
 "cells": [
  {
   "cell_type": "markdown",
   "id": "d0e7f84a-e93e-41dc-83cb-6eb1c10f0026",
   "metadata": {},
   "source": [
    "## Tuples and Sets Exercise:\n",
    "\n",
    "    1. Create a tuple with different data types and perform operations like slicing and indexing.\n",
    "\n",
    "    2. Write a program that demonstrates set operations (union, intersection, difference) using two sets of numbers.\r\n",
    "\r\n"
   ]
  },
  {
   "cell_type": "code",
   "execution_count": 21,
   "id": "5e0032cc-a9fd-4018-a6d6-ce9d15f361b6",
   "metadata": {},
   "outputs": [
    {
     "name": "stdout",
     "output_type": "stream",
     "text": [
      "('Bhanu', 1, 10, 'apple', 3.5, 'c')\n",
      "Bhanu\n",
      "c\n",
      "('Bhanu', 3.5)\n",
      "(1, 'apple', 'c')\n",
      "('c', 3.5, 'apple', 10, 1, 'Bhanu')\n",
      "['Bhanu', 2, 10, 'apple', 3.5, 'c']\n"
     ]
    }
   ],
   "source": [
    "# Tuple\n",
    "\n",
    "data=\"Bhanu\", 1, 10, \"apple\", 3.5, \"c\"\n",
    "print(data)\n",
    "\n",
    "print(data[0])\n",
    "print(data[-1])\n",
    "print(data[::4])\n",
    "print(data[1:6:2])\n",
    "\n",
    "print(data[::-1])\n",
    "\n",
    "data=list(data)\n",
    "data[1]=2\n",
    "print(data)\n"
   ]
  },
  {
   "cell_type": "code",
   "execution_count": 48,
   "id": "667f71df-43d3-4d4b-955f-846326679216",
   "metadata": {},
   "outputs": [
    {
     "name": "stdout",
     "output_type": "stream",
     "text": [
      "Union operator is '|' {'bar', 'baz', 'quux', 'qux', 'foo'}\n",
      "{'bar', 'baz', 'quux', 'qux', 'foo'}\n",
      "Intersection operator is '&' {'baz'}\n",
      "{'baz'}\n",
      "{'quux', 'qux'}\n",
      "{'quux', 'qux'}\n",
      "Symmetric difference is {'bar', 'quux', 'qux', 'foo'} i.e after exclusion of common elements\n",
      "Also can be represented by {'bar', 'quux', 'qux', 'foo'}\n",
      "Disjoint returns true if no common elements False\n",
      "True\n",
      "Updation can be done like {'bar', 'baz', 'quux', 'qux', 'foo'}\n",
      "It can also be done like {'bar', 'baz', 'quux', 'corey', 'qux', 'foo'}\n",
      "Intersection update is retaining only common elements\n",
      "Difference update is retaining only common from another set elements\n",
      "Syemmetric difference update is removing common elements and having retaining only uncommon elements\n",
      "frozenset({'foo', 'bar', 'baz'})\n",
      "other than modily operators all works in frozen sets frozenset({'baz'})\n"
     ]
    }
   ],
   "source": [
    "# Set\n",
    "\n",
    "x1 = {'foo', 'bar', 'baz'}\n",
    "x2 = {'baz', 'qux', 'quux'}\n",
    "\n",
    "print(f\"Union operator is '|' {x1|x2}\")\n",
    "print(x2.union(x1))\n",
    "\n",
    "print(f\"Intersection operator is '&' {x1&x2}\")\n",
    "print(x2.intersection(x1))\n",
    "\n",
    "print(x2-x1)\n",
    "print(x2.difference(x1))\n",
    "\n",
    "print(f\"Symmetric difference is {x1.symmetric_difference(x2)} i.e after exclusion of common elements\") \n",
    "print(f\"Also can be represented by {x1^x2}\")\n",
    "\n",
    "print(f\"Disjoint returns true if no common elements {x2.isdisjoint(x1)}\")\n",
    "print(x2.isdisjoint(x1-{'baz'}))\n",
    "\n",
    "\n",
    "x1.issubset({'foo', 'bar', 'baz', 'qux', 'quux'})\n",
    "x1<=x2\n",
    "\n",
    "x1|=x2\n",
    "print(f\"Updation can be done like {x1}\")\n",
    "x1.update([\"corey\"])\n",
    "print(f\"It can also be done like {x1}\")\n",
    "\n",
    "\n",
    "\n",
    "print(\"Intersection update is retaining only common elements\")\n",
    "print(\"Difference update is retaining only common from another set elements\")\n",
    "print(\"Syemmetric difference update is removing common elements and having retaining only uncommon elements\")\n",
    "\n",
    "\n",
    "x = frozenset(['foo', 'bar', 'baz'])\n",
    "print(x)\n",
    "\n",
    "print(f\"other than modily operators all works in frozen sets {x & {'baz', 'qux', 'quux'}}\")"
   ]
  },
  {
   "cell_type": "code",
   "execution_count": null,
   "id": "8ecee053-6d8e-4c63-9376-0807fe77f936",
   "metadata": {},
   "outputs": [],
   "source": []
  }
 ],
 "metadata": {
  "kernelspec": {
   "display_name": "Python 3 (ipykernel)",
   "language": "python",
   "name": "python3"
  },
  "language_info": {
   "codemirror_mode": {
    "name": "ipython",
    "version": 3
   },
   "file_extension": ".py",
   "mimetype": "text/x-python",
   "name": "python",
   "nbconvert_exporter": "python",
   "pygments_lexer": "ipython3",
   "version": "3.11.0"
  }
 },
 "nbformat": 4,
 "nbformat_minor": 5
}
