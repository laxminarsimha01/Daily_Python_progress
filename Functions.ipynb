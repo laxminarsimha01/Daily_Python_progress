{
 "cells": [
  {
   "cell_type": "markdown",
   "id": "024fb219",
   "metadata": {},
   "source": [
    "# Python Functions"
   ]
  },
  {
   "cell_type": "code",
   "execution_count": 1,
   "id": "de6c56c9",
   "metadata": {},
   "outputs": [
    {
     "name": "stdout",
     "output_type": "stream",
     "text": [
      "Length of array5\n",
      "Enter the values of string\n",
      "5\n",
      "3\n",
      "6\n",
      "3\n",
      "4\n"
     ]
    },
    {
     "data": {
      "text/plain": [
       "[5, 3, 6, 3, 4]"
      ]
     },
     "metadata": {},
     "output_type": "display_data"
    },
    {
     "data": {
      "text/plain": [
       "[2, 3, 4, 5, 6, 7, 8, 8]"
      ]
     },
     "metadata": {},
     "output_type": "display_data"
    }
   ],
   "source": [
    "# Function defination(with parameters) and its woking\n",
    "\n",
    "def initiate_array(a):\n",
    "    n=int(input(\"Length of array\"))\n",
    "    print(\"Enter the values of string\")\n",
    "    for i in range(0,n):\n",
    "        a.append(int(input()))\n",
    "    \n",
    "    display(a)\n",
    "\n",
    "arr=[2,3,4,5,6,7,8,8]\n",
    "n=len(arr)\n",
    "\n",
    "arr1=[]\n",
    "initiate_array(arr1)\n",
    "display(arr)\n"
   ]
  },
  {
   "cell_type": "code",
   "execution_count": 2,
   "id": "990f1993",
   "metadata": {},
   "outputs": [
    {
     "name": "stdout",
     "output_type": "stream",
     "text": [
      "20 25\n"
     ]
    }
   ],
   "source": [
    "# Functions with arbitary parameters\n",
    "\n",
    "def add(*numbers):\n",
    "    res=0\n",
    "    for num in numbers:\n",
    "        res+=num\n",
    "    return res\n",
    "r1=add(3,8,7,2)\n",
    "r2=add(1,3,5,7,9)\n",
    "\n",
    "print(r1,r2)"
   ]
  },
  {
   "cell_type": "code",
   "execution_count": 3,
   "id": "9a1fa298",
   "metadata": {},
   "outputs": [
    {
     "name": "stdout",
     "output_type": "stream",
     "text": [
      "Enter the factorial number: 9\n",
      "362880 34\n"
     ]
    }
   ],
   "source": [
    "#  Factorial and fibanocci using Recursion \n",
    "\n",
    "def fact(x):  # Factorial number\n",
    "    if x==1:\n",
    "        return 1;\n",
    "    elif x<0:\n",
    "        return \"Factorial dosen't exist\"\n",
    "    else:\n",
    "        return (x*fact(x-1))\n",
    "\n",
    "\n",
    "def fib(x):   # Fibanocci series\n",
    "    if x==0:\n",
    "        return 0\n",
    "    elif x==1 or x==2:\n",
    "        return 1\n",
    "    else:\n",
    "        return fib(x-1)+fib(x-2)\n",
    "\n",
    "\n",
    "n=int(input(\"Enter the factorial number: \"))\n",
    "r1=fact(n)\n",
    "r2=fib(n)\n",
    "print(r1,r2)\n",
    "    "
   ]
  },
  {
   "cell_type": "code",
   "execution_count": 4,
   "id": "de26cc78",
   "metadata": {},
   "outputs": [
    {
     "name": "stdout",
     "output_type": "stream",
     "text": [
      "Hello Bhanu\n"
     ]
    }
   ],
   "source": [
    "# Lambda function: It's a special type of function has properties similar to function\n",
    "# It doseen't have function name \n",
    "# It's defines with and without parameters\n",
    "\n",
    "greet=lambda name: print(\"Hello\", name)\n",
    "\n",
    "greet(\"Bhanu\")"
   ]
  },
  {
   "cell_type": "markdown",
   "id": "19f90e1d",
   "metadata": {},
   "source": [
    "Local Variables are the variables inside the defines functions\n",
    "\n",
    "Global Variables are the variables that are defines outside the function, which then accessed inside or outside of the function.\n",
    "(Global variables are accessed inside the local varibales by using the keyword global inside the function)\n",
    "\n",
    "Non-Local Variables are the variables that are used in nested functions whose local score is not defined i.e they are neither used as global or local variables\n"
   ]
  },
  {
   "cell_type": "code",
   "execution_count": 5,
   "id": "70303246",
   "metadata": {},
   "outputs": [
    {
     "name": "stdout",
     "output_type": "stream",
     "text": [
      "The value of pi 3.141592653589793\n"
     ]
    }
   ],
   "source": [
    "# Modules in Python\n",
    "import math as m\n",
    "print(\"The value of pi\", m.pi)"
   ]
  },
  {
   "cell_type": "code",
   "execution_count": 6,
   "id": "9de66c09",
   "metadata": {},
   "outputs": [
    {
     "name": "stdout",
     "output_type": "stream",
     "text": [
      "The value of pi 3.141592653589793\n",
      "2.718281828459045\n"
     ]
    },
    {
     "data": {
      "text/plain": [
       "['C:\\\\Users\\\\laxmi\\\\Documents\\\\Python',\n",
       " 'C:\\\\Users\\\\laxmi\\\\anaconda3\\\\python39.zip',\n",
       " 'C:\\\\Users\\\\laxmi\\\\anaconda3\\\\DLLs',\n",
       " 'C:\\\\Users\\\\laxmi\\\\anaconda3\\\\lib',\n",
       " 'C:\\\\Users\\\\laxmi\\\\anaconda3',\n",
       " '',\n",
       " 'C:\\\\Users\\\\laxmi\\\\AppData\\\\Roaming\\\\Python\\\\Python39\\\\site-packages',\n",
       " 'C:\\\\Users\\\\laxmi\\\\anaconda3\\\\lib\\\\site-packages',\n",
       " 'C:\\\\Users\\\\laxmi\\\\anaconda3\\\\lib\\\\site-packages\\\\win32',\n",
       " 'C:\\\\Users\\\\laxmi\\\\anaconda3\\\\lib\\\\site-packages\\\\win32\\\\lib',\n",
       " 'C:\\\\Users\\\\laxmi\\\\anaconda3\\\\lib\\\\site-packages\\\\Pythonwin',\n",
       " 'C:\\\\Users\\\\laxmi\\\\anaconda3\\\\lib\\\\site-packages\\\\IPython\\\\extensions',\n",
       " 'C:\\\\Users\\\\laxmi\\\\.ipython']"
      ]
     },
     "execution_count": 6,
     "metadata": {},
     "output_type": "execute_result"
    }
   ],
   "source": [
    "from math import pi,e # For importing all names use \"*\" instaed of names\n",
    "print(\"The value of pi\", pi)\n",
    "print(e)\n",
    "\n",
    "import sys\n",
    "sys.path"
   ]
  },
  {
   "cell_type": "code",
   "execution_count": 7,
   "id": "9e4b05d5",
   "metadata": {},
   "outputs": [
    {
     "data": {
      "text/plain": [
       "['__breakpointhook__',\n",
       " '__displayhook__',\n",
       " '__doc__',\n",
       " '__excepthook__',\n",
       " '__interactivehook__',\n",
       " '__loader__',\n",
       " '__name__',\n",
       " '__package__',\n",
       " '__spec__',\n",
       " '__stderr__',\n",
       " '__stdin__',\n",
       " '__stdout__',\n",
       " '__unraisablehook__',\n",
       " '_base_executable',\n",
       " '_clear_type_cache',\n",
       " '_current_frames',\n",
       " '_debugmallocstats',\n",
       " '_enablelegacywindowsfsencoding',\n",
       " '_framework',\n",
       " '_getframe',\n",
       " '_git',\n",
       " '_home',\n",
       " '_xoptions',\n",
       " 'addaudithook',\n",
       " 'api_version',\n",
       " 'argv',\n",
       " 'audit',\n",
       " 'base_exec_prefix',\n",
       " 'base_prefix',\n",
       " 'breakpointhook',\n",
       " 'builtin_module_names',\n",
       " 'byteorder',\n",
       " 'call_tracing',\n",
       " 'copyright',\n",
       " 'displayhook',\n",
       " 'dllhandle',\n",
       " 'dont_write_bytecode',\n",
       " 'exc_info',\n",
       " 'excepthook',\n",
       " 'exec_prefix',\n",
       " 'executable',\n",
       " 'exit',\n",
       " 'flags',\n",
       " 'float_info',\n",
       " 'float_repr_style',\n",
       " 'get_asyncgen_hooks',\n",
       " 'get_coroutine_origin_tracking_depth',\n",
       " 'getallocatedblocks',\n",
       " 'getdefaultencoding',\n",
       " 'getfilesystemencodeerrors',\n",
       " 'getfilesystemencoding',\n",
       " 'getprofile',\n",
       " 'getrecursionlimit',\n",
       " 'getrefcount',\n",
       " 'getsizeof',\n",
       " 'getswitchinterval',\n",
       " 'gettrace',\n",
       " 'getwindowsversion',\n",
       " 'hash_info',\n",
       " 'hexversion',\n",
       " 'implementation',\n",
       " 'int_info',\n",
       " 'intern',\n",
       " 'is_finalizing',\n",
       " 'maxsize',\n",
       " 'maxunicode',\n",
       " 'meta_path',\n",
       " 'modules',\n",
       " 'path',\n",
       " 'path_hooks',\n",
       " 'path_importer_cache',\n",
       " 'platform',\n",
       " 'platlibdir',\n",
       " 'prefix',\n",
       " 'ps1',\n",
       " 'ps2',\n",
       " 'ps3',\n",
       " 'pycache_prefix',\n",
       " 'set_asyncgen_hooks',\n",
       " 'set_coroutine_origin_tracking_depth',\n",
       " 'setprofile',\n",
       " 'setrecursionlimit',\n",
       " 'setswitchinterval',\n",
       " 'settrace',\n",
       " 'stderr',\n",
       " 'stdin',\n",
       " 'stdout',\n",
       " 'thread_info',\n",
       " 'unraisablehook',\n",
       " 'version',\n",
       " 'version_info',\n",
       " 'warnoptions',\n",
       " 'winver']"
      ]
     },
     "execution_count": 7,
     "metadata": {},
     "output_type": "execute_result"
    }
   ],
   "source": [
    "dir(sys)"
   ]
  },
  {
   "cell_type": "code",
   "execution_count": null,
   "id": "d87602b6",
   "metadata": {},
   "outputs": [],
   "source": []
  },
  {
   "cell_type": "code",
   "execution_count": null,
   "id": "1cafb8f3",
   "metadata": {},
   "outputs": [],
   "source": []
  }
 ],
 "metadata": {
  "kernelspec": {
   "display_name": "Python 3 (ipykernel)",
   "language": "python",
   "name": "python3"
  },
  "language_info": {
   "codemirror_mode": {
    "name": "ipython",
    "version": 3
   },
   "file_extension": ".py",
   "mimetype": "text/x-python",
   "name": "python",
   "nbconvert_exporter": "python",
   "pygments_lexer": "ipython3",
   "version": "3.9.13"
  }
 },
 "nbformat": 4,
 "nbformat_minor": 5
}
