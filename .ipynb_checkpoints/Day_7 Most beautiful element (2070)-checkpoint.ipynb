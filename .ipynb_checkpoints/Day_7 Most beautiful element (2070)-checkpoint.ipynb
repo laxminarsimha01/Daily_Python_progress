{
 "cells": [
  {
   "cell_type": "code",
   "execution_count": null,
   "id": "9180b5dc-57c7-4503-8aaa-e2cb1115fb0a",
   "metadata": {},
   "outputs": [],
   "source": [
    "\n",
    "    def maximumBeauty(self, items: List[List[int]], queries: List[int]) -> List[int]:\n",
    "        # Sort items by price (first element in each sublist)\n",
    "        items.sort()\n",
    "        \n",
    "        # Precompute the maximum beauty at each price level\n",
    "        max_beauty_at_price = []\n",
    "        current_max_beauty = 0\n",
    "        \n",
    "        for price, beauty in items:\n",
    "            current_max_beauty = max(current_max_beauty, beauty)\n",
    "            max_beauty_at_price.append((price, current_max_beauty))\n",
    "        \n",
    "        # Sort queries with indices to map results back to original order\n",
    "        sorted_queries = sorted((q, i) for i, q in enumerate(queries))\n",
    "        \n",
    "        # Prepare result array\n",
    "        result = [0] * len(queries)\n",
    "        \n",
    "        # Process each query\n",
    "        for query, original_index in sorted_queries:\n",
    "            # Binary search to find the largest price <= query\n",
    "            idx = bisect_right(max_beauty_at_price, (query, float('inf'))) - 1\n",
    "            if idx >= 0:\n",
    "                result[original_index] = max_beauty_at_price[idx][1]\n",
    "            else:\n",
    "                result[original_index] = 0\n",
    "        \n",
    "        return result"
   ]
  }
 ],
 "metadata": {
  "kernelspec": {
   "display_name": "Python 3 (ipykernel)",
   "language": "python",
   "name": "python3"
  },
  "language_info": {
   "codemirror_mode": {
    "name": "ipython",
    "version": 3
   },
   "file_extension": ".py",
   "mimetype": "text/x-python",
   "name": "python",
   "nbconvert_exporter": "python",
   "pygments_lexer": "ipython3",
   "version": "3.12.4"
  }
 },
 "nbformat": 4,
 "nbformat_minor": 5
}
