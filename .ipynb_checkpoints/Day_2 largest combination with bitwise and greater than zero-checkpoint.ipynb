{
 "cells": [
  {
   "cell_type": "markdown",
   "id": "b1459594-47f8-4534-9085-b30664f584e9",
   "metadata": {},
   "source": [
    "# largest-combination-with-bitwise-and-greater-than-zero"
   ]
  },
  {
   "cell_type": "code",
   "execution_count": 1,
   "id": "bd696bd3-20c3-4b17-a0f4-137155df52f2",
   "metadata": {},
   "outputs": [],
   "source": [
    "# The bitwise AND of an array nums is the bitwise AND of all integers in nums.\n",
    "\n",
    "# For example, for nums = [1, 5, 3], the bitwise AND is equal to 1 & 5 & 3 = 1.\n",
    "# Also, for nums = [7], the bitwise AND is 7.\n",
    "# You are given an array of positive integers candidates. Evaluate the bitwise AND of every combination of numbers of candidates. Each number in candidates may only be used once in each combination.\n",
    "\n",
    "# Return the size of the largest combination of candidates with a bitwise AND greater than 0.\n",
    "\n",
    " \n",
    "\n",
    "# Example 1:\n",
    "\n",
    "# Input: candidates = [16,17,71,62,12,24,14]\n",
    "# Output: 4\n",
    "# Explanation: The combination [16,17,62,24] has a bitwise AND of 16 & 17 & 62 & 24 = 16 > 0.\n",
    "# The size of the combination is 4.\n",
    "# It can be shown that no combination with a size greater than 4 has a bitwise AND greater than 0.\n",
    "# Note that more than one combination may have the largest size.\n",
    "# For example, the combination [62,12,24,14] has a bitwise AND of 62 & 12 & 24 & 14 = 8 > 0.\n",
    "# Example 2:\n",
    "\n",
    "# Input: candidates = [8,8]\n",
    "# Output: 2\n",
    "# Explanation: The largest combination [8,8] has a bitwise AND of 8 & 8 = 8 > 0.\n",
    "# The size of the combination is 2, so we return 2.\n",
    " \n",
    "\n",
    "# Constraints:\n",
    "\n",
    "# 1 <= candidates.length <= 105\n",
    "# 1 <= candidates[i] <= 107\n"
   ]
  },
  {
   "cell_type": "code",
   "execution_count": 4,
   "id": "f9f1bdcf-3942-47d4-b4f1-cb39fb4a3f77",
   "metadata": {},
   "outputs": [],
   "source": [
    "def largestCombination(candidates):\n",
    "    res=0\n",
    "    for i in range(32):\n",
    "        cnt=0\n",
    "        for n in candidates:\n",
    "            cnt+=1 if (1<<i) & n else 0\n",
    "        res=max(res,cnt)\n",
    "        \n",
    "    return res"
   ]
  },
  {
   "cell_type": "code",
   "execution_count": 6,
   "id": "881d6ecf-9845-4f7f-9823-f95fdca7ca82",
   "metadata": {},
   "outputs": [
    {
     "data": {
      "text/plain": [
       "1"
      ]
     },
     "execution_count": 6,
     "metadata": {},
     "output_type": "execute_result"
    }
   ],
   "source": [
    "largestCombination([7])"
   ]
  },
  {
   "cell_type": "code",
   "execution_count": null,
   "id": "975bb905-fb28-42a4-b01a-df15b8bb81ae",
   "metadata": {},
   "outputs": [],
   "source": []
  }
 ],
 "metadata": {
  "kernelspec": {
   "display_name": "Python 3 (ipykernel)",
   "language": "python",
   "name": "python3"
  },
  "language_info": {
   "codemirror_mode": {
    "name": "ipython",
    "version": 3
   },
   "file_extension": ".py",
   "mimetype": "text/x-python",
   "name": "python",
   "nbconvert_exporter": "python",
   "pygments_lexer": "ipython3",
   "version": "3.12.4"
  }
 },
 "nbformat": 4,
 "nbformat_minor": 5
}
