{
 "cells": [
  {
   "cell_type": "markdown",
   "id": "45509cce-8805-490a-a827-8c48ed80ee83",
   "metadata": {},
   "source": [
    "# Maximum XOR for each Query"
   ]
  },
  {
   "cell_type": "code",
   "execution_count": 1,
   "id": "b0255c74-18f0-4023-87a0-9577e639191e",
   "metadata": {},
   "outputs": [],
   "source": [
    "# You are given a sorted array nums of n non-negative integers and an integer maximumBit. You want to perform the following query n times:\n",
    "\n",
    "# Find a non-negative integer k < 2maximumBit such that nums[0] XOR nums[1] XOR ... XOR nums[nums.length-1] XOR k is maximized. k is the answer to the ith query.\n",
    "# Remove the last element from the current array nums.\n",
    "# Return an array answer, where answer[i] is the answer to the ith query.\n",
    "\n",
    " \n",
    "\n",
    "# Example 1:\n",
    "\n",
    "# Input: nums = [0,1,1,3], maximumBit = 2\n",
    "# Output: [0,3,2,3]\n",
    "# Explanation: The queries are answered as follows:\n",
    "# 1st query: nums = [0,1,1,3], k = 0 since 0 XOR 1 XOR 1 XOR 3 XOR 0 = 3.\n",
    "# 2nd query: nums = [0,1,1], k = 3 since 0 XOR 1 XOR 1 XOR 3 = 3.\n",
    "# 3rd query: nums = [0,1], k = 2 since 0 XOR 1 XOR 2 = 3.\n",
    "# 4th query: nums = [0], k = 3 since 0 XOR 3 = 3.\n",
    "# Example 2:\n",
    "\n",
    "# Input: nums = [2,3,4,7], maximumBit = 3\n",
    "# Output: [5,2,6,5]\n",
    "# Explanation: The queries are answered as follows:\n",
    "# 1st query: nums = [2,3,4,7], k = 5 since 2 XOR 3 XOR 4 XOR 7 XOR 5 = 7.\n",
    "# 2nd query: nums = [2,3,4], k = 2 since 2 XOR 3 XOR 4 XOR 2 = 7.\n",
    "# 3rd query: nums = [2,3], k = 6 since 2 XOR 3 XOR 6 = 7.\n",
    "# 4th query: nums = [2], k = 5 since 2 XOR 5 = 7.\n",
    "# Example 3:\n",
    "\n",
    "# Input: nums = [0,1,2,2,5,7], maximumBit = 3\n",
    "# Output: [4,3,6,4,6,7]\n",
    " \n",
    "\n",
    "# Constraints:\n",
    "\n",
    "# nums.length == n\n",
    "# 1 <= n <= 105\n",
    "# 1 <= maximumBit <= 20\n",
    "# 0 <= nums[i] < 2maximumBit\n",
    "# # nums​​​ is sorted in ascending order"
   ]
  },
  {
   "cell_type": "code",
   "execution_count": 3,
   "id": "94109b56-1838-48ec-9288-0d1add3de48b",
   "metadata": {},
   "outputs": [],
   "source": [
    "    def getMaximumXor(nums, maximumBit):\n",
    "        xor=0\n",
    "        for n in nums:\n",
    "            xor ^=n\n",
    "        \n",
    "        mask = (1<<maximumBit)-1\n",
    "        answer=[]\n",
    "        for n in reversed(nums):\n",
    "            answer.append(xor^mask)\n",
    "            xor ^=n\n",
    "        \n",
    "        return answer"
   ]
  },
  {
   "cell_type": "code",
   "execution_count": 4,
   "id": "3dfc3c1e-c7f9-4299-945b-abd050550591",
   "metadata": {},
   "outputs": [
    {
     "data": {
      "text/plain": [
       "[5, 2, 6, 5]"
      ]
     },
     "execution_count": 4,
     "metadata": {},
     "output_type": "execute_result"
    }
   ],
   "source": [
    "nums = [2,3,4,7]\n",
    "maximumBit = 3\n",
    "getMaximumXor(nums, maximumBit)"
   ]
  },
  {
   "cell_type": "code",
   "execution_count": null,
   "id": "b864d2f8-97cc-4c59-9371-5a0581786e2f",
   "metadata": {},
   "outputs": [],
   "source": []
  }
 ],
 "metadata": {
  "kernelspec": {
   "display_name": "Python 3 (ipykernel)",
   "language": "python",
   "name": "python3"
  },
  "language_info": {
   "codemirror_mode": {
    "name": "ipython",
    "version": 3
   },
   "file_extension": ".py",
   "mimetype": "text/x-python",
   "name": "python",
   "nbconvert_exporter": "python",
   "pygments_lexer": "ipython3",
   "version": "3.12.4"
  }
 },
 "nbformat": 4,
 "nbformat_minor": 5
}
