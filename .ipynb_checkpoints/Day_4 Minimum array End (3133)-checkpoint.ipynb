{
 "cells": [
  {
   "cell_type": "markdown",
   "id": "0e4bba84-76e8-43b7-9baf-e4468e8c71e6",
   "metadata": {},
   "source": [
    "# 3133. Minimum array end"
   ]
  },
  {
   "cell_type": "code",
   "execution_count": 1,
   "id": "d15d5d1a-a080-4b44-b168-b9c5a5802c2b",
   "metadata": {},
   "outputs": [],
   "source": [
    "# You are given two integers n and x. You have to construct an array of positive integers nums of size n where for every 0 <= i < n - 1, nums[i + 1] is greater than nums[i], and the result of the bitwise AND operation between all elements of nums is x.\n",
    "\n",
    "# Return the minimum possible value of nums[n - 1].\n",
    "\n",
    " \n",
    "\n",
    "# Example 1:\n",
    "\n",
    "# Input: n = 3, x = 4\n",
    "\n",
    "# Output: 6\n",
    "\n",
    "# Explanation:\n",
    "\n",
    "# nums can be [4,5,6] and its last element is 6.\n",
    "\n",
    "# Example 2:\n",
    "\n",
    "# Input: n = 2, x = 7\n",
    "\n",
    "# Output: 15\n",
    "\n",
    "# Explanation:\n",
    "\n",
    "# nums can be [7,15] and its last element is 15.\n",
    "\n",
    " \n",
    "\n",
    "# Constraints:\n",
    "\n",
    "# 1 <= n, x <= 108"
   ]
  },
  {
   "cell_type": "markdown",
   "id": "5f055e67-df11-433a-9228-f870056ad936",
   "metadata": {},
   "source": [
    "## Solution 1 (Brute Force method)"
   ]
  },
  {
   "cell_type": "code",
   "execution_count": 19,
   "id": "d0ec4cfb-6a30-4f61-955a-52aa79da7d1f",
   "metadata": {},
   "outputs": [],
   "source": [
    "import time\n",
    "def minEnd(n, x):\n",
    "    res = 0\n",
    "    for _ in range(n-1):\n",
    "        res+=1\n",
    "        res=res|x\n",
    "    return res"
   ]
  },
  {
   "cell_type": "code",
   "execution_count": 20,
   "id": "a82af406-1b75-4f64-af65-4512d3266a96",
   "metadata": {},
   "outputs": [
    {
     "data": {
      "text/plain": [
       "6"
      ]
     },
     "execution_count": 20,
     "metadata": {},
     "output_type": "execute_result"
    }
   ],
   "source": [
    "minEnd(3,4)"
   ]
  },
  {
   "cell_type": "code",
   "execution_count": 21,
   "id": "d5e5e331-eb0d-4dc9-88b8-f052f73470be",
   "metadata": {},
   "outputs": [],
   "source": [
    "# This Method has time complexity for larger numbers"
   ]
  },
  {
   "cell_type": "code",
   "execution_count": 22,
   "id": "1aee6322-dba5-46bc-b614-153300c63291",
   "metadata": {},
   "outputs": [
    {
     "name": "stdout",
     "output_type": "stream",
     "text": [
      "20.138537645339966\n"
     ]
    }
   ],
   "source": [
    "start_time=time.time()\n",
    "minEnd(69735293,5563569)\n",
    "print(time.time()-start_time)"
   ]
  },
  {
   "cell_type": "markdown",
   "id": "1cadb8aa-9b98-4213-9c70-b66f4f735269",
   "metadata": {},
   "source": [
    "# Solution 2 (Bit Manipulation)"
   ]
  },
  {
   "cell_type": "code",
   "execution_count": 23,
   "id": "6f5090ac-543a-4e55-9f47-acf561cc57e3",
   "metadata": {},
   "outputs": [],
   "source": [
    "import time\n",
    "def minEnd2(n,x):\n",
    "    res=0\n",
    "    i_x=1\n",
    "    i_n=1 # n-1\n",
    "\n",
    "    while i_n <= n-1:\n",
    "        if i_x & x == 0:\n",
    "            if i_n & (n-1):\n",
    "                res = res | i_x\n",
    "            i_n = i_n << 1\n",
    "        i_x = i_x << 1\n",
    "    return res"
   ]
  },
  {
   "cell_type": "code",
   "execution_count": 25,
   "id": "64940f8e-5790-4591-902c-ab7e5eeaf613",
   "metadata": {},
   "outputs": [
    {
     "name": "stdout",
     "output_type": "stream",
     "text": [
      "0.0\n"
     ]
    }
   ],
   "source": [
    "start_time=time.time()\n",
    "minEnd2(69735293,5563569)\n",
    "print(time.time()-start_time)"
   ]
  },
  {
   "cell_type": "code",
   "execution_count": null,
   "id": "3519f13f-dad0-494b-bcb6-3d6dfef30328",
   "metadata": {},
   "outputs": [],
   "source": []
  }
 ],
 "metadata": {
  "kernelspec": {
   "display_name": "Python 3 (ipykernel)",
   "language": "python",
   "name": "python3"
  },
  "language_info": {
   "codemirror_mode": {
    "name": "ipython",
    "version": 3
   },
   "file_extension": ".py",
   "mimetype": "text/x-python",
   "name": "python",
   "nbconvert_exporter": "python",
   "pygments_lexer": "ipython3",
   "version": "3.12.4"
  }
 },
 "nbformat": 4,
 "nbformat_minor": 5
}
