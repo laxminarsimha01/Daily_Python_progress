{
 "cells": [
  {
   "cell_type": "markdown",
   "id": "ab15baba-eb6f-46d5-8c9f-9a369a5abd68",
   "metadata": {},
   "source": [
    "# 2601. Prime Subtraction operation"
   ]
  },
  {
   "cell_type": "code",
   "execution_count": 1,
   "id": "98e1405d-4508-4fd7-9e55-67628383f7ef",
   "metadata": {},
   "outputs": [],
   "source": [
    "# You are given a 0-indexed integer array nums of length n.\n",
    "\n",
    "# You can perform the following operation as many times as you want:\n",
    "\n",
    "# Pick an index i that you haven’t picked before, and pick a prime p strictly less than nums[i], then subtract p from nums[i].\n",
    "# Return true if you can make nums a strictly increasing array using the above operation and false otherwise.\n",
    "\n",
    "# A strictly increasing array is an array whose each element is strictly greater than its preceding element.\n",
    "\n",
    " \n",
    "\n",
    "# Example 1:\n",
    "\n",
    "# Input: nums = [4,9,6,10]\n",
    "# Output: true\n",
    "# Explanation: In the first operation: Pick i = 0 and p = 3, and then subtract 3 from nums[0], so that nums becomes [1,9,6,10].\n",
    "# In the second operation: i = 1, p = 7, subtract 7 from nums[1], so nums becomes equal to [1,2,6,10].\n",
    "# After the second operation, nums is sorted in strictly increasing order, so the answer is true.\n",
    "# Example 2:\n",
    "\n",
    "# Input: nums = [6,8,11,12]\n",
    "# Output: true\n",
    "# Explanation: Initially nums is sorted in strictly increasing order, so we don't need to make any operations.\n",
    "# Example 3:\n",
    "\n",
    "# Input: nums = [5,8,3]\n",
    "# Output: false\n",
    "# Explanation: It can be proven that there is no way to perform operations to make nums sorted in strictly increasing order, so the answer is false.\n",
    " \n",
    "\n",
    "# Constraints:\n",
    "\n",
    "# 1 <= nums.length <= 1000\n",
    "# 1 <= nums[i] <= 1000\n",
    "# nums.length == n"
   ]
  },
  {
   "cell_type": "markdown",
   "id": "2eb052bc-c0f3-4feb-920c-0c1050de0bb5",
   "metadata": {},
   "source": [
    "## My solution"
   ]
  },
  {
   "cell_type": "code",
   "execution_count": 28,
   "id": "8d70c10d-81a3-4e8e-a7be-6ebcebc1a7c7",
   "metadata": {},
   "outputs": [],
   "source": [
    "def incresingOrder(nums):\n",
    "    if nums==sorted(nums):\n",
    "        return True\n",
    "\n",
    "def is_prime(n):\n",
    "    if n <= 1:\n",
    "        return False\n",
    "    for i in range(2, int(n**0.5) + 1):\n",
    "        if n % i == 0:\n",
    "            return False\n",
    "    return True\n",
    "\n",
    "def prevprime(n):\n",
    "    if n <= 2:\n",
    "        return None\n",
    "    n -= 1\n",
    "    while not is_prime(n):\n",
    "        n -= 1\n",
    "    return n\n",
    "\n",
    "def primeSubOperation(nums):\n",
    "    for i in range(0, len(nums)-1):\n",
    "        if is_prime(nums[i]) is False:\n",
    "            nums[i]=nums[i]-prevprime(nums[i])\n",
    "        if incresingOrder(nums):\n",
    "            break\n",
    "    return True  "
   ]
  },
  {
   "cell_type": "code",
   "execution_count": 29,
   "id": "fbb76278-35c4-49db-90da-ed6861a490b7",
   "metadata": {},
   "outputs": [
    {
     "data": {
      "text/plain": [
       "True"
      ]
     },
     "execution_count": 29,
     "metadata": {},
     "output_type": "execute_result"
    }
   ],
   "source": [
    "nums = [5,8,3] \n",
    "primeSubOperation(nums)"
   ]
  },
  {
   "cell_type": "markdown",
   "id": "a7bb58b6-5a61-4c87-a07d-c7cf88a83b2d",
   "metadata": {},
   "source": [
    "nums = [5,8,3] # This test case is failing"
   ]
  },
  {
   "cell_type": "markdown",
   "id": "bf327938-5a9e-4eff-9dbc-2baa0f7958e0",
   "metadata": {},
   "source": [
    "## Optimal solution"
   ]
  },
  {
   "cell_type": "code",
   "execution_count": 44,
   "id": "7c547de3-9d31-4c13-881b-db7a62b7ddd1",
   "metadata": {},
   "outputs": [],
   "source": [
    "    def checkPrime(self, x):\n",
    "        if x <= 1:\n",
    "            return False\n",
    "        for i in range(2, int(math.sqrt(x)) + 1):\n",
    "            if x % i == 0:\n",
    "                return False\n",
    "        return True\n",
    "\n",
    "    def primeSuboperation(self, nums):\n",
    "        for i in range(len(nums)):\n",
    "            bound = nums[i] if i == 0 else nums[i] - nums[i - 1]\n",
    "            if bound <= 0:\n",
    "                return False\n",
    "            largestPrime = 0\n",
    "            for j in range(bound - 1, 1, -1):\n",
    "                if self.checkPrime(j):\n",
    "                    largestPrime = j\n",
    "                    break\n",
    "            nums[i] -= largestPrime\n",
    "        return True"
   ]
  },
  {
   "cell_type": "code",
   "execution_count": 45,
   "id": "89f82f11-cb79-4c20-97ad-d70fb0aea1ae",
   "metadata": {},
   "outputs": [
    {
     "ename": "TypeError",
     "evalue": "primeSuboperation() missing 1 required positional argument: 'nums'",
     "output_type": "error",
     "traceback": [
      "\u001b[1;31m---------------------------------------------------------------------------\u001b[0m",
      "\u001b[1;31mTypeError\u001b[0m                                 Traceback (most recent call last)",
      "Cell \u001b[1;32mIn[45], line 2\u001b[0m\n\u001b[0;32m      1\u001b[0m nums\u001b[38;5;241m=\u001b[39m[\u001b[38;5;241m5\u001b[39m,\u001b[38;5;241m8\u001b[39m,\u001b[38;5;241m3\u001b[39m]\n\u001b[1;32m----> 2\u001b[0m \u001b[43mprimeSuboperation\u001b[49m\u001b[43m(\u001b[49m\u001b[43mnums\u001b[49m\u001b[43m)\u001b[49m\n",
      "\u001b[1;31mTypeError\u001b[0m: primeSuboperation() missing 1 required positional argument: 'nums'"
     ]
    }
   ],
   "source": [
    "nums=[5,8,3]\n",
    "primeSuboperation(nums)"
   ]
  },
  {
   "cell_type": "code",
   "execution_count": null,
   "id": "8860c6ae-9f12-4909-846c-e4e21621be18",
   "metadata": {},
   "outputs": [],
   "source": []
  }
 ],
 "metadata": {
  "kernelspec": {
   "display_name": "Python 3 (ipykernel)",
   "language": "python",
   "name": "python3"
  },
  "language_info": {
   "codemirror_mode": {
    "name": "ipython",
    "version": 3
   },
   "file_extension": ".py",
   "mimetype": "text/x-python",
   "name": "python",
   "nbconvert_exporter": "python",
   "pygments_lexer": "ipython3",
   "version": "3.12.4"
  }
 },
 "nbformat": 4,
 "nbformat_minor": 5
}
