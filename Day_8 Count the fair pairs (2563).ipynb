{
 "cells": [
  {
   "cell_type": "markdown",
   "id": "1cc9e853-40f9-47e5-bef7-9e12d395f71f",
   "metadata": {},
   "source": [
    "# Count the fair pairs (2553)"
   ]
  },
  {
   "cell_type": "code",
   "execution_count": 2,
   "id": "700627c0-f5a7-43b3-8526-16dd5f08779f",
   "metadata": {},
   "outputs": [],
   "source": [
    "# Given a 0-indexed integer array nums of size n and two integers lower and upper, return the number of fair pairs.\n",
    "\n",
    "# A pair (i, j) is fair if:\n",
    "\n",
    "# 0 <= i < j < n, and\n",
    "# lower <= nums[i] + nums[j] <= upper\n",
    " \n",
    "\n",
    "# Example 1:\n",
    "\n",
    "# Input: nums = [0,1,7,4,4,5], lower = 3, upper = 6\n",
    "# Output: 6\n",
    "# Explanation: There are 6 fair pairs: (0,3), (0,4), (0,5), (1,3), (1,4), and (1,5).\n",
    "# Example 2:\n",
    "\n",
    "# Input: nums = [1,7,9,2,5], lower = 11, upper = 11\n",
    "# Output: 1\n",
    "# Explanation: There is a single fair pair: (2,3).\n",
    " \n",
    "\n",
    "# Constraints:\n",
    "\n",
    "# 1 <= nums.length <= 105\n",
    "# nums.length == n\n",
    "# -109 <= nums[i] <= 109\n",
    "# -109 <= lower <= upper <= 109"
   ]
  },
  {
   "cell_type": "code",
   "execution_count": 4,
   "id": "09c160d2-1b0a-443f-bd67-166a0f23a93d",
   "metadata": {},
   "outputs": [],
   "source": [
    "class Solution:\n",
    "    def countFairPairs(nums, lower, upper):\n",
    "        # Step 1: Sort the array\n",
    "        nums.sort()\n",
    "        \n",
    "        n = len(nums)\n",
    "        count = 0\n",
    "        \n",
    "        # Step 2: For each element nums[i], use binary search to find the valid range for nums[j]\n",
    "        for i in range(n - 1):\n",
    "            # Determine the range of values that nums[j] could be\n",
    "            min_val = lower - nums[i]\n",
    "            max_val = upper - nums[i]\n",
    "            \n",
    "            # Use binary search to find the range [start, end] in the sorted array\n",
    "            start = bisect.bisect_left(nums, min_val, i + 1, n)\n",
    "            end = bisect.bisect_right(nums, max_val, i + 1, n) - 1\n",
    "            \n",
    "            # The number of valid pairs for this i is end - start + 1\n",
    "            if start <= end:\n",
    "                count += end - start + 1\n",
    "        \n",
    "        return count"
   ]
  },
  {
   "cell_type": "code",
   "execution_count": null,
   "id": "a8aabcce-6d7e-4196-9acc-d2d8d6d3fda9",
   "metadata": {},
   "outputs": [],
   "source": []
  }
 ],
 "metadata": {
  "kernelspec": {
   "display_name": "Python 3 (ipykernel)",
   "language": "python",
   "name": "python3"
  },
  "language_info": {
   "codemirror_mode": {
    "name": "ipython",
    "version": 3
   },
   "file_extension": ".py",
   "mimetype": "text/x-python",
   "name": "python",
   "nbconvert_exporter": "python",
   "pygments_lexer": "ipython3",
   "version": "3.12.4"
  }
 },
 "nbformat": 4,
 "nbformat_minor": 5
}
