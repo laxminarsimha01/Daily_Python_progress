{
 "cells": [
  {
   "cell_type": "markdown",
   "id": "6ee11613-97a2-4f6c-a851-8b8ea4e59cff",
   "metadata": {},
   "source": [
    "# Find if array can be sorted"
   ]
  },
  {
   "cell_type": "markdown",
   "id": "7c5017c7-d63e-4731-9938-eeab8a946dfe",
   "metadata": {},
   "source": [
    "You are given a 0-indexed array of positive integers nums.\n",
    "\n",
    "\n",
    "In one operation, you can swap any two adjacent elements if they have the same number of \n",
    "set bits\n",
    "\n",
    "    \n",
    ". You are allowed to do this operation any number of times (including zero).\n",
    "\n",
    "\n",
    "Return true if you can sort the array, else return false."
   ]
  },
  {
   "cell_type": "code",
   "execution_count": 8,
   "id": "e843c459-3164-45df-943c-51831a886afa",
   "metadata": {},
   "outputs": [],
   "source": [
    "\n",
    "# Example 1:\n",
    "\n",
    "# Input: nums = [8,4,2,30,15]\n",
    "# Output: true\n",
    "# Explanation: Let's look at the binary representation of every element. The numbers 2, 4, and 8 have one set bit each with binary representation \"10\", \"100\", and \"1000\" respectively. The numbers 15 and 30 have four set bits each with binary representation \"1111\" and \"11110\".\n",
    "# We can sort the array using 4 operations:\n",
    "# - Swap nums[0] with nums[1]. This operation is valid because 8 and 4 have one set bit each. The array becomes [4,8,2,30,15].\n",
    "# - Swap nums[1] with nums[2]. This operation is valid because 8 and 2 have one set bit each. The array becomes [4,2,8,30,15].\n",
    "# - Swap nums[0] with nums[1]. This operation is valid because 4 and 2 have one set bit each. The array becomes [2,4,8,30,15].\n",
    "# - Swap nums[3] with nums[4]. This operation is valid because 30 and 15 have four set bits each. The array becomes [2,4,8,15,30].\n",
    "# The array has become sorted, hence we return true.\n",
    "# Note that there may be other sequences of operations which also sort the array/\n",
    "\n",
    "\n",
    "# Example 2:\n",
    "\n",
    "# Input: nums = [1,2,3,4,5]\n",
    "# Output: true\n",
    "# Explanation: The array is already sorted, hence we return true.\n",
    "# Example 3:\n",
    "\n",
    "# Input: nums = [3,16,8,4,2]\n",
    "# Output: false\n",
    "# Explanation: It can be shown that it is not possible to sort the input array using any number of operations."
   ]
  },
  {
   "cell_type": "code",
   "execution_count": 59,
   "id": "59c3acc4-f383-4726-ae5a-ff549bca8219",
   "metadata": {},
   "outputs": [
    {
     "name": "stdout",
     "output_type": "stream",
     "text": [
      "New array is :[2, 4, 8, 15, 30]\n"
     ]
    }
   ],
   "source": [
    "#def arrlist(nums):\n",
    "\n",
    "\n",
    "arr=[8,4,2,30,15]\n",
    "# arr=[]\n",
    "# for i in arrbin:\n",
    "#     arr.append(format(i, 'b'))\n",
    "\n",
    "#print(arr)\n",
    "\n",
    "\n",
    "# def countbits(num):\n",
    "#     one = [ones for ones in num if ones=='1']\n",
    "#     return len(one)\n",
    "\n",
    "#print(countbits(arr[3]))\n",
    "\n",
    "#n=len(arr)\n",
    "\n",
    "#while n!=0:\n",
    "for j in range(len(arr)):\n",
    "    for i in range(0,len(arr)-j-1):\n",
    "        if arr[i]<arr[i+1]:\n",
    "            continue\n",
    "        else:\n",
    "            #print(countbits(arr[i]),countbits(arr[i+1]))\n",
    "            #if countbits(arr[i])==countbits(arr[i+1]):\n",
    "            if bin(arr[i]).count(\"1\")==bin(arr[i+1]).count(\"1\"):\n",
    "                arr[i], arr[i+1] = arr[i+1], arr[i]\n",
    "                #print(arr)\n",
    "            else:\n",
    "                print(\"Cannot be sorted\")\n",
    "\n",
    "            \n",
    "#    n-=1\n",
    "print(f\"New array is :{arr}\")"
   ]
  },
  {
   "cell_type": "code",
   "execution_count": null,
   "id": "68901d41-686d-4dc0-9b7b-de676dee4cfa",
   "metadata": {},
   "outputs": [],
   "source": []
  }
 ],
 "metadata": {
  "kernelspec": {
   "display_name": "Python 3 (ipykernel)",
   "language": "python",
   "name": "python3"
  },
  "language_info": {
   "codemirror_mode": {
    "name": "ipython",
    "version": 3
   },
   "file_extension": ".py",
   "mimetype": "text/x-python",
   "name": "python",
   "nbconvert_exporter": "python",
   "pygments_lexer": "ipython3",
   "version": "3.12.4"
  }
 },
 "nbformat": 4,
 "nbformat_minor": 5
}
