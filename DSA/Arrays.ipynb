{
 "cells": [
  {
   "cell_type": "markdown",
   "id": "04955e56",
   "metadata": {},
   "source": [
    "# Array Sequences\n"
   ]
  },
  {
   "cell_type": "markdown",
   "id": "84e21945",
   "metadata": {},
   "source": [
    "Q1) Anagram Check:\n",
    "words with exact same number of letters "
   ]
  },
  {
   "cell_type": "code",
   "execution_count": 1,
   "id": "bf456745",
   "metadata": {},
   "outputs": [],
   "source": [
    "def anagram(s1,s2):\n",
    "    \n",
    "    s1=s1.replace(\" \",\"\").lower()\n",
    "    s2=s2.replace(\" \",\"\").lower()\n",
    "    \n",
    "    return sorted(s1)==sorted(s2)\n",
    "       "
   ]
  },
  {
   "cell_type": "code",
   "execution_count": 2,
   "id": "3bcc5ae6",
   "metadata": {},
   "outputs": [
    {
     "name": "stdout",
     "output_type": "stream",
     "text": [
      "True False\n"
     ]
    }
   ],
   "source": [
    "a1=anagram(\"dog\",\"god\")\n",
    "a2=anagram(\"aa\",\"bb\")\n",
    "print(a1,a2)"
   ]
  },
  {
   "cell_type": "code",
   "execution_count": 3,
   "id": "5f99e79d",
   "metadata": {},
   "outputs": [],
   "source": [
    "def anagram2(s1,s2):\n",
    "    \n",
    "    s1=s1.replace(\" \",\"\").lower()\n",
    "    s2=s2.replace(\" \",\"\").lower()\n",
    "    \n",
    "    # Edge case test\n",
    "    \n",
    "    if len(s1)!=len(s2):\n",
    "        return False\n",
    "    \n",
    "    count={}\n",
    "    \n",
    "    for letter in s1:\n",
    "        if letter in count:\n",
    "            count[letter]+=1\n",
    "        else:\n",
    "            count[letter]=1\n",
    "    for letter in s2:\n",
    "        if letter in count:\n",
    "            count[letter]-=1\n",
    "        else:\n",
    "            count[letter]=1\n",
    "    \n",
    "    for k in count:\n",
    "        if count[k]!=0:\n",
    "            return False\n",
    "    \n",
    "    return True"
   ]
  },
  {
   "cell_type": "code",
   "execution_count": 4,
   "id": "5aa696f2",
   "metadata": {},
   "outputs": [
    {
     "data": {
      "text/plain": [
       "True"
      ]
     },
     "execution_count": 4,
     "metadata": {},
     "output_type": "execute_result"
    }
   ],
   "source": [
    "a1=anagram(\"clint Eastwood\", \"Old West Action\")\n",
    "a1"
   ]
  },
  {
   "cell_type": "code",
   "execution_count": null,
   "id": "120bf100",
   "metadata": {},
   "outputs": [],
   "source": []
  },
  {
   "cell_type": "markdown",
   "id": "6c5a7dd7",
   "metadata": {},
   "source": [
    "Q2) Array Pair Sum:\n",
    "Given an interger array, output all unique pairs that sum upto a number given number k.\n",
    "\n",
    "pair_sum([1,3,2,2], 4)\n",
    "\n",
    "would return 2 pairs:\n",
    "\n",
    "            (1,3)\n",
    "            (2,2)"
   ]
  },
  {
   "cell_type": "code",
   "execution_count": 5,
   "id": "9b929fa0",
   "metadata": {},
   "outputs": [
    {
     "ename": "SyntaxError",
     "evalue": "cannot assign to operator (2394182816.py, line 4)",
     "output_type": "error",
     "traceback": [
      "\u001b[1;36m  File \u001b[1;32m\"C:\\Users\\laxmi\\AppData\\Local\\Temp\\ipykernel_3228\\2394182816.py\"\u001b[1;36m, line \u001b[1;32m4\u001b[0m\n\u001b[1;33m    for num+1 in arr:\u001b[0m\n\u001b[1;37m        ^\u001b[0m\n\u001b[1;31mSyntaxError\u001b[0m\u001b[1;31m:\u001b[0m cannot assign to operator\n"
     ]
    }
   ],
   "source": [
    "def pair_sum(arr,k):\n",
    "    \n",
    "    for num in arr:\n",
    "        for num+1 in arr:\n",
    "            if (num)"
   ]
  },
  {
   "cell_type": "code",
   "execution_count": null,
   "id": "d8d603a7",
   "metadata": {},
   "outputs": [],
   "source": [
    " "
   ]
  }
 ],
 "metadata": {
  "kernelspec": {
   "display_name": "Python 3 (ipykernel)",
   "language": "python",
   "name": "python3"
  },
  "language_info": {
   "codemirror_mode": {
    "name": "ipython",
    "version": 3
   },
   "file_extension": ".py",
   "mimetype": "text/x-python",
   "name": "python",
   "nbconvert_exporter": "python",
   "pygments_lexer": "ipython3",
   "version": "3.9.13"
  }
 },
 "nbformat": 4,
 "nbformat_minor": 5
}
