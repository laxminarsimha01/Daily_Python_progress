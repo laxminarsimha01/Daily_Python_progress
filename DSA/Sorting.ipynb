{
 "cells": [
  {
   "cell_type": "markdown",
   "id": "d05a9c9d",
   "metadata": {},
   "source": [
    "# Bubble sort\n",
    "\n",
    "Time Complexity=O(n^2)\n",
    "Space Complexity=O(1)\n"
   ]
  },
  {
   "cell_type": "code",
   "execution_count": 1,
   "id": "487a3336",
   "metadata": {},
   "outputs": [
    {
     "name": "stdout",
     "output_type": "stream",
     "text": [
      "[1, 2, 3, 4, 6, 7, 9]\n"
     ]
    }
   ],
   "source": [
    "# Swap dfunction\n",
    "\n",
    "def swap(n1,n2):\n",
    "    t=n1\n",
    "    n1=n2\n",
    "    n2=t\n",
    "    \n",
    "    return (n1,n2)\n",
    "\n",
    "\n",
    "def bubble_sort(arr):\n",
    "    size=len(arr)\n",
    "    \n",
    "    for i in range(size-1):\n",
    "        swapped=False\n",
    "        for j in range(size-1-i):\n",
    "            if arr[j]>arr[j+1]:\n",
    "                arr[j], arr[j+1]=arr[j+1], arr[j]\n",
    "                swapped=True\n",
    "\n",
    "        if not swapped:\n",
    "            break\n",
    "                \n",
    "\n",
    "arr=[1,2,6,9,3,7,4]\n",
    "bubble_sort(arr)\n",
    "print(arr)\n",
    "# print(len(arr))"
   ]
  },
  {
   "cell_type": "code",
   "execution_count": 2,
   "id": "a340580b",
   "metadata": {},
   "outputs": [
    {
     "name": "stdout",
     "output_type": "stream",
     "text": [
      "[1, 2, 3, 4, 6, 7, 9]\n"
     ]
    }
   ],
   "source": [
    "arr=[1,2,6,9,3,7,4]\n",
    "size=len(arr)\n",
    "\n",
    "for i in range(size-1):\n",
    "    for i in range(size-1-i):\n",
    "        if arr[i]>arr[i+1]:\n",
    "            arr[i], arr[i+1]=arr[i+1], arr[i]\n",
    "\n",
    "print(arr)"
   ]
  },
  {
   "cell_type": "markdown",
   "id": "910c13ea",
   "metadata": {},
   "source": [
    "# Selection Sort\n",
    "\n",
    "Time complexity: O(n^2)\n",
    "Space complexity: O(1)"
   ]
  },
  {
   "cell_type": "code",
   "execution_count": 3,
   "id": "877e2da0",
   "metadata": {},
   "outputs": [
    {
     "name": "stdout",
     "output_type": "stream",
     "text": [
      "[1, 2, 3, 4, 5, 6, 7, 8, 9]\n",
      "[[12, 23, 34, 45, 67, 78, 89, 565], [], [1, 4, 76, 134, 234, 435, 762], [3, 8, 12, 21, 23, 53, 61, 72], [5], [1, 5, 8, 9]]\n"
     ]
    }
   ],
   "source": [
    "def selection_sort(arr):\n",
    "    size=len(arr)\n",
    "    \n",
    "    for i in range(size-1):\n",
    "        min_index=i\n",
    "        \n",
    "        for j in range(i+1, size):\n",
    "            if arr[j]<arr[min_index]:  # Minimum element of the array\n",
    "                min_index=j\n",
    "        \n",
    "        if i!=min_index:  # If i and min index are not equal swap\n",
    "            arr[i], arr[min_index]=arr[min_index], arr[i]\n",
    "\n",
    "\n",
    "arr=[8,1,5,2,6,9,3,7,4]\n",
    "selection_sort(arr)\n",
    "print(arr)\n",
    "\n",
    "tests=[\n",
    "    [89,78,67,565,45,34,23,12],\n",
    "    [],\n",
    "    [234,1,4,76,435,762,134],\n",
    "    [72,12,8,3,61,53,21,23],\n",
    "    [5],\n",
    "    [1,5,8,9]\n",
    "]\n",
    "\n",
    "for elements in tests:\n",
    "    selection_sort(elements)\n",
    "print(tests)"
   ]
  },
  {
   "cell_type": "markdown",
   "id": "72c67718",
   "metadata": {},
   "source": [
    "Implement a Multi-Level Sort of a given list of dictionaries based on a given sorting order. If user wants to sort dictionary based on First Key 'A', Then Key 'B', they shall pass list of keys in the order of preference as a list ['A','B']. Your code should be able to sort list of dictionaries for any number of keys in sorting order list.\n",
    "\n",
    "Using this multi-level sort, you should be able to sort any list of dictionaries based on sorting order preference\n",
    "\n",
    "Example: A single dictionary entry contains two keys 'First Name' and 'Last Name'. the list should be sorted first based on 'First Name', then based on 'Last Name', w.r.t. common/same 'First Name' entries.\n",
    "\n",
    "for this, one shall past sorting order of preference list [ 'First Name' , 'Last Name' ]\n",
    "\n",
    "For this, Given the following sequence List:"
   ]
  },
  {
   "cell_type": "code",
   "execution_count": 4,
   "id": "61bf1020",
   "metadata": {},
   "outputs": [
    {
     "name": "stdout",
     "output_type": "stream",
     "text": [
      "Array after mult-level sorting: \n",
      "{'First Name': 'Aahana', 'Last Name': 'Arora'}\n",
      "{'First Name': 'Armaan', 'Last Name': 'Dadra'}\n",
      "{'First Name': 'Armaan', 'Last Name': 'Kumar'}\n",
      "{'First Name': 'Ingrid', 'Last Name': 'Galore'}\n",
      "{'First Name': 'Ingrid', 'Last Name': 'Maverick'}\n",
      "{'First Name': 'Jade', 'Last Name': 'Canary'}\n",
      "{'First Name': 'Jaya', 'Last Name': 'Seth'}\n",
      "{'First Name': 'Jaya', 'Last Name': 'Sharma'}\n",
      "{'First Name': 'Karan', 'Last Name': 'Kumar'}\n",
      "{'First Name': 'Kiran', 'Last Name': 'Kamla'}\n",
      "{'First Name': 'Raj', 'Last Name': 'Sharma'}\n",
      "{'First Name': 'Raj', 'Last Name': 'Nayyar'}\n",
      "{'First Name': 'Raj', 'Last Name': 'Thakur'}\n",
      "{'First Name': 'Suraj', 'Last Name': 'Sharma'}\n"
     ]
    }
   ],
   "source": [
    "def multilevel_selection_sort(elements, sort_by_list):\n",
    "    for sort_by in sort_by_list[-1::-1]:\n",
    "        for x in range(len(elements)):\n",
    "            min_index = x\n",
    "            for y in range(x, len(elements)):\n",
    "                if elements[y][sort_by] < elements[min_index][sort_by]:\n",
    "                    min_index = y\n",
    "            if x != min_index:\n",
    "                elements[x], elements[min_index] = elements[min_index], elements[x]\n",
    "\n",
    "\n",
    "elements = [\n",
    "        {'First Name': 'Raj', 'Last Name': 'Nayyar'},\n",
    "        {'First Name': 'Suraj', 'Last Name': 'Sharma'},\n",
    "        {'First Name': 'Karan', 'Last Name': 'Kumar'},\n",
    "        {'First Name': 'Jade', 'Last Name': 'Canary'},\n",
    "        {'First Name': 'Raj', 'Last Name': 'Thakur'},\n",
    "        {'First Name': 'Raj', 'Last Name': 'Sharma'},\n",
    "        {'First Name': 'Kiran', 'Last Name': 'Kamla'},\n",
    "        {'First Name': 'Armaan', 'Last Name': 'Kumar'},\n",
    "        {'First Name': 'Jaya', 'Last Name': 'Sharma'},\n",
    "        {'First Name': 'Ingrid', 'Last Name': 'Galore'},\n",
    "        {'First Name': 'Jaya', 'Last Name': 'Seth'},\n",
    "        {'First Name': 'Armaan', 'Last Name': 'Dadra'},\n",
    "        {'First Name': 'Ingrid', 'Last Name': 'Maverick'},\n",
    "        {'First Name': 'Aahana', 'Last Name': 'Arora'}\n",
    "]\n",
    "\n",
    "multilevel_selection_sort(elements, ['First Name', 'Last Name'])\n",
    "\n",
    "print(f'Array after mult-level sorting: ', *elements, sep='\\n')"
   ]
  },
  {
   "cell_type": "markdown",
   "id": "45a026cb",
   "metadata": {},
   "source": [
    "# Insertion sort\n",
    "\n",
    "Time Complexity: O(n^2)\n",
    "Space Compexity: \n"
   ]
  },
  {
   "cell_type": "code",
   "execution_count": 5,
   "id": "ca1c712d",
   "metadata": {},
   "outputs": [
    {
     "name": "stdout",
     "output_type": "stream",
     "text": [
      "[1, 2, 3, 4, 5, 6, 7, 8, 9]\n"
     ]
    }
   ],
   "source": [
    "def insertion_sort(arr):\n",
    "    size=len(arr)\n",
    "    \n",
    "    for i in range(1, size):\n",
    "        temp=arr[i]\n",
    "        j=i-1\n",
    "        while j>=0 and temp<arr[j]:\n",
    "            arr[j+1]=arr[j]\n",
    "            j-=1\n",
    "            arr[j+1]=temp\n",
    " \n",
    "arr=[8,1,5,2,6,9,3,7,4]\n",
    "insertion_sort(arr)\n",
    "print(arr)"
   ]
  },
  {
   "cell_type": "markdown",
   "id": "cbcf1739",
   "metadata": {},
   "source": [
    "Compute the running median of a sequence of numbers. That is, given a stream of numbers, print out the median of the list so far on each new element.\n",
    "\n",
    "Recall that the median of an even-numbered list is the average of the two middle numbers in a sorted list.\n",
    "\n",
    "For example, given the sequence [2, 1, 5, 7, 2, 0, 5], your algorithm should print out:\n",
    "\n",
    "[2, 1.5, 2, 3.5, 2, 2, 2]"
   ]
  },
  {
   "cell_type": "markdown",
   "id": "81a84a80",
   "metadata": {},
   "source": [
    "# Quick sort\n",
    "\n",
    "Time Complexity (best and general) =O(nlogn)\n",
    "\n",
    "Worst case = O(n^2)\n"
   ]
  },
  {
   "cell_type": "code",
   "execution_count": 2,
   "id": "3b5f7beb",
   "metadata": {},
   "outputs": [
    {
     "name": "stdout",
     "output_type": "stream",
     "text": [
      "[2, 7, 9, 11, 15, 28, 29]\n"
     ]
    }
   ],
   "source": [
    "\n",
    "\n",
    "def quick_sort(elements):\n",
    "    size=len(elements)\n",
    "    if size<=1:\n",
    "        return elements\n",
    "    else:\n",
    "        pivot=elements.pop()\n",
    "        \n",
    "    greater_elements=[]\n",
    "    smaller_elements=[]\n",
    "        \n",
    "    for item in elements:\n",
    "        if item>pivot:\n",
    "            greater_elements.append(item)\n",
    "            \n",
    "        else:\n",
    "            smaller_elements.append(item)\n",
    "        \n",
    "    return quick_sort(smaller_elements)+[pivot]+quick_sort(greater_elements)\n",
    "\n",
    "\n",
    "print(quick_sort([11,9,29,7,2,15,28]))\n"
   ]
  },
  {
   "cell_type": "code",
   "execution_count": null,
   "id": "90769d75",
   "metadata": {},
   "outputs": [],
   "source": []
  }
 ],
 "metadata": {
  "kernelspec": {
   "display_name": "Python 3 (ipykernel)",
   "language": "python",
   "name": "python3"
  },
  "language_info": {
   "codemirror_mode": {
    "name": "ipython",
    "version": 3
   },
   "file_extension": ".py",
   "mimetype": "text/x-python",
   "name": "python",
   "nbconvert_exporter": "python",
   "pygments_lexer": "ipython3",
   "version": "3.9.13"
  }
 },
 "nbformat": 4,
 "nbformat_minor": 5
}
