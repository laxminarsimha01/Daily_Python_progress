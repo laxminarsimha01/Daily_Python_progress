{
 "cells": [
  {
   "cell_type": "code",
   "execution_count": 5,
   "id": "907e80d8",
   "metadata": {},
   "outputs": [
    {
     "data": {
      "text/plain": [
       "3"
      ]
     },
     "execution_count": 5,
     "metadata": {},
     "output_type": "execute_result"
    }
   ],
   "source": [
    "# Linear Search\n",
    "\n",
    "def Linear_search(arr, n):\n",
    "    for index, element in enumerate(arr):\n",
    "        if element==n:\n",
    "            return index\n",
    "    return -1\n",
    "'''\n",
    "def print_array(arr):\n",
    "    for i in range(0,n):\n",
    "        print(arr[i])\n",
    "    return -1\n",
    "\n",
    "def create_arr(n):\n",
    "    \n",
    "    for i in range(0,n):\n",
    "        arr[i]=int(input())\n",
    "    print_array(arr)\n",
    "    \n",
    "    return -1\n",
    "\n",
    "num=int(input(\"Length of the array: \"))\n",
    "'''\n",
    "\n",
    "arr=[5,6,3,8,7,3,9]\n",
    "num=8\n",
    "Linear_search(arr, num)\n",
    "\n",
    "# Time complexity is O(logn)"
   ]
  },
  {
   "cell_type": "code",
   "execution_count": 6,
   "id": "7002ed7c",
   "metadata": {},
   "outputs": [
    {
     "data": {
      "text/plain": [
       "4"
      ]
     },
     "execution_count": 6,
     "metadata": {},
     "output_type": "execute_result"
    }
   ],
   "source": [
    "# Binary Search\n",
    "\n",
    "def Binary_search(arr, n):\n",
    "    left_index=0\n",
    "    right_index=len(arr)-1\n",
    "    mid_index=0\n",
    "    \n",
    "    while left_index<right_index:\n",
    "        mid_index= (left_index+right_index)//2\n",
    "        mid_num=arr[mid_index]\n",
    "        \n",
    "        if mid_num==n:\n",
    "            return mid_index\n",
    "        \n",
    "        elif mid_num>n:\n",
    "            right_index=mid_index-1\n",
    "        \n",
    "        else:\n",
    "            left_index=mid_index+1\n",
    "    \n",
    "    return -1\n",
    "    \n",
    "arr=[2,4,6,8,10,12]\n",
    "n=10\n",
    "\n",
    "Binary_search(arr,n)"
   ]
  },
  {
   "cell_type": "code",
   "execution_count": 7,
   "id": "99ee37c3",
   "metadata": {},
   "outputs": [
    {
     "data": {
      "text/plain": [
       "'\\nimport time\\n\\ndef time_it(func):\\n    def wrapper(*args, **kwargs):\\n        start=time.time()\\n        result=func(*args, **kwargs)\\n        end=time.time()\\n        print(func.__name__+ \" took \"+str((end-start)*1000)+ \" mil. sec \")\\n        return result\\n    return wrapper\\n\\ntime_it(Linear_search)\\ntime_it(Binary_search)\\n\\n'"
      ]
     },
     "execution_count": 7,
     "metadata": {},
     "output_type": "execute_result"
    }
   ],
   "source": [
    "# Decorators for time preformance measure\n",
    "'''\n",
    "import time\n",
    "\n",
    "def time_it(func):\n",
    "    def wrapper(*args, **kwargs):\n",
    "        start=time.time()\n",
    "        result=func(*args, **kwargs)\n",
    "        end=time.time()\n",
    "        print(func.__name__+ \" took \"+str((end-start)*1000)+ \" mil. sec \")\n",
    "        return result\n",
    "    return wrapper\n",
    "\n",
    "time_it(Linear_search)\n",
    "time_it(Binary_search)\n",
    "\n",
    "'''\n"
   ]
  },
  {
   "cell_type": "code",
   "execution_count": 12,
   "id": "a38dbe79",
   "metadata": {},
   "outputs": [
    {
     "data": {
      "text/plain": [
       "-1"
      ]
     },
     "execution_count": 12,
     "metadata": {},
     "output_type": "execute_result"
    }
   ],
   "source": [
    "# Binary_recursive\n",
    "\n",
    "def Binary_recursive(arr,n, left, right):\n",
    "    if left>right:\n",
    "        return -1\n",
    "    \n",
    "    mid_index=(left+right)//2\n",
    "    mid_num=arr[mid_index]\n",
    "    \n",
    "    if mid_num==n:\n",
    "        return mid_index\n",
    "    \n",
    "    if mid_num>n:\n",
    "        right=mid_index-1\n",
    "    else:\n",
    "        left=mid_index+1\n",
    "    \n",
    "    return Binary_recursive(arr, n, left, right)\n",
    "\n",
    "arr=[1,4,6,9,10,5,7] # unsorted array\n",
    "n=5\n",
    "\n",
    "Binary_recursive(arr, n, 0, len(arr)-1)"
   ]
  },
  {
   "cell_type": "markdown",
   "id": "5656f9f3",
   "metadata": {},
   "source": [
    "Exercise: Binary_Search\n",
    "\n",
    "Find the number of occurances in the array and return their index value\n",
    "\n",
    "\n",
    "numbers=[1,4,6,9,11,15,15,15,17,21,34,34,56]\n",
    "\n",
    "number_to find=15"
   ]
  },
  {
   "cell_type": "code",
   "execution_count": 14,
   "id": "e3e93c54",
   "metadata": {},
   "outputs": [
    {
     "data": {
      "text/plain": [
       "[5, 6, 7]"
      ]
     },
     "execution_count": 14,
     "metadata": {},
     "output_type": "execute_result"
    }
   ],
   "source": [
    "def Binary_search(arr, n):\n",
    "    left_index=0\n",
    "    right_index=len(arr)-1\n",
    "    mid_index=0\n",
    "    \n",
    "    while left_index<right_index:\n",
    "        mid_index= (left_index+right_index)//2\n",
    "        mid_num=arr[mid_index]\n",
    "        \n",
    "        if mid_num==n:\n",
    "            return mid_index\n",
    "        \n",
    "        elif mid_num>n:\n",
    "            right_index=mid_index-1\n",
    "        \n",
    "        else:\n",
    "            left_index=mid_index+1\n",
    "    \n",
    "    return -1\n",
    "\n",
    "\n",
    "def all_occurances(arr, n):\n",
    "    index=Binary_search(arr, n)\n",
    "    indices=[index]\n",
    "    \n",
    "    # Search the left\n",
    "    \n",
    "    i=index-1\n",
    "    while i>=0:\n",
    "        if arr[i]==n:\n",
    "            indices.append(i)\n",
    "        else:\n",
    "            break\n",
    "        \n",
    "        i=i-1\n",
    "    \n",
    "    # Search for right\n",
    "    i=index+1\n",
    "    while i<len(arr):\n",
    "        if arr[i]==n:\n",
    "            indices.append(i)\n",
    "        else:\n",
    "            break\n",
    "        \n",
    "        i=i+1\n",
    "        \n",
    "    return sorted(indices)\n",
    "\n",
    "\n",
    "arr=[1,4,6,9,11,15,15,15,17,21,34,34,56]\n",
    "n=15\n",
    "\n",
    "all_occurances(arr,n)"
   ]
  },
  {
   "cell_type": "code",
   "execution_count": null,
   "id": "6d9786e6",
   "metadata": {},
   "outputs": [],
   "source": []
  }
 ],
 "metadata": {
  "kernelspec": {
   "display_name": "Python 3 (ipykernel)",
   "language": "python",
   "name": "python3"
  },
  "language_info": {
   "codemirror_mode": {
    "name": "ipython",
    "version": 3
   },
   "file_extension": ".py",
   "mimetype": "text/x-python",
   "name": "python",
   "nbconvert_exporter": "python",
   "pygments_lexer": "ipython3",
   "version": "3.9.13"
  }
 },
 "nbformat": 4,
 "nbformat_minor": 5
}
