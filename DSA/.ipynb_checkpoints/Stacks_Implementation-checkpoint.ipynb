{
 "cells": [
  {
   "cell_type": "markdown",
   "id": "898bacf3-21f2-4edf-9ddd-e7476335b5f5",
   "metadata": {},
   "source": [
    "# Stack Implementation\n"
   ]
  },
  {
   "cell_type": "markdown",
   "id": "a34c73de-d685-4f04-82c2-f72194c6dc2b",
   "metadata": {},
   "source": [
    "## Stack implementation using List"
   ]
  },
  {
   "cell_type": "code",
   "execution_count": 3,
   "id": "1631f939-dc54-467a-87a1-bf72fe35a418",
   "metadata": {},
   "outputs": [],
   "source": [
    "class Stack():\n",
    "    def __init__(self):\n",
    "        # Initiate Empty stack\n",
    "        self.items=[]\n",
    "\n",
    "    def isempty():\n",
    "        return len(self.items) == 0\n",
    "\n",
    "    def size():\n",
    "        return len(self.items)\n",
    "    \n",
    "    def push(self, items):\n",
    "        self.items.append(items)\n",
    "\n",
    "    def pop(self, items):\n",
    "        if not self.items.isempty():\n",
    "            self.items.pop(items)\n",
    "        else:\n",
    "            raise IndexError(\"Cannot pop empty stack\")\n",
    "\n",
    "    def peek(self, items):\n",
    "        if not items.isempty():\n",
    "            self.items[-1]\n",
    "        else:\n",
    "            raise IndexError(\"Connot peek into empty stack\")\n",
    "    "
   ]
  },
  {
   "cell_type": "markdown",
   "id": "508e984f-d69e-495a-98fb-b4e14739c0d6",
   "metadata": {},
   "source": [
    "## Stack implementation using libraries"
   ]
  },
  {
   "cell_type": "code",
   "execution_count": null,
   "id": "51de99b5-6541-47f6-baca-3a1cedb711ab",
   "metadata": {},
   "outputs": [],
   "source": []
  }
 ],
 "metadata": {
  "kernelspec": {
   "display_name": "Python 3 (ipykernel)",
   "language": "python",
   "name": "python3"
  },
  "language_info": {
   "codemirror_mode": {
    "name": "ipython",
    "version": 3
   },
   "file_extension": ".py",
   "mimetype": "text/x-python",
   "name": "python",
   "nbconvert_exporter": "python",
   "pygments_lexer": "ipython3",
   "version": "3.12.4"
  }
 },
 "nbformat": 4,
 "nbformat_minor": 5
}
