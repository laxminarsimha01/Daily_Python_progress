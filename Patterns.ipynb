{
 "cells": [
  {
   "cell_type": "markdown",
   "id": "dc47a4c0",
   "metadata": {},
   "source": [
    "Subtract sum of odd positions from even positions"
   ]
  },
  {
   "cell_type": "code",
   "execution_count": null,
   "id": "38c5a8c0",
   "metadata": {},
   "outputs": [],
   "source": [
    "mints=int(input(\"Total mints\"))\n",
    "length=int(input(\"Length\"))\n",
    "\n",
    "sum_mints=mints\n",
    "\n",
    "if length ==1:\n",
    "    return mints\n",
    "\n",
    "while length!=1:\n",
    "    sum_mints=sum_mints+(mints-1)\n",
    "    length-=1\n",
    "    \n",
    "return sum_mints\n",
    "    "
   ]
  },
  {
   "cell_type": "code",
   "execution_count": null,
   "id": "5a8d1a8d",
   "metadata": {},
   "outputs": [],
   "source": []
  }
 ],
 "metadata": {
  "kernelspec": {
   "display_name": "Python 3 (ipykernel)",
   "language": "python",
   "name": "python3"
  },
  "language_info": {
   "codemirror_mode": {
    "name": "ipython",
    "version": 3
   },
   "file_extension": ".py",
   "mimetype": "text/x-python",
   "name": "python",
   "nbconvert_exporter": "python",
   "pygments_lexer": "ipython3",
   "version": "3.9.13"
  }
 },
 "nbformat": 4,
 "nbformat_minor": 5
}
