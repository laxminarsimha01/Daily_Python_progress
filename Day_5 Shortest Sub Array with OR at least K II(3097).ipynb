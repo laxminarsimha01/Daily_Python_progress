{
 "cells": [
  {
   "cell_type": "markdown",
   "id": "ecbe99c3-5745-4223-a789-2c5beabe05cf",
   "metadata": {},
   "source": [
    "# 3097. Shortest Subarray With OR at Least K II\n"
   ]
  },
  {
   "cell_type": "code",
   "execution_count": 1,
   "id": "1475dbfc-4ad8-4fea-9348-92621ec1b061",
   "metadata": {},
   "outputs": [],
   "source": [
    "# Medium\n",
    "# Topics\n",
    "# Companies\n",
    "# Hint\n",
    "# You are given an array nums of non-negative integers and an integer k.\n",
    "\n",
    "# An array is called special if the bitwise OR of all of its elements is at least k.\n",
    "\n",
    "# Return the length of the shortest special non-empty \n",
    "# subarray\n",
    "#  of nums, or return -1 if no special subarray exists.\n",
    "\n",
    " \n",
    "\n",
    "# Example 1:\n",
    "\n",
    "# Input: nums = [1,2,3], k = 2\n",
    "\n",
    "# Output: 1\n",
    "\n",
    "# Explanation:\n",
    "\n",
    "# The subarray [3] has OR value of 3. Hence, we return 1.\n",
    "\n",
    "# Example 2:\n",
    "\n",
    "# Input: nums = [2,1,8], k = 10\n",
    "\n",
    "# Output: 3\n",
    "\n",
    "# Explanation:\n",
    "\n",
    "# The subarray [2,1,8] has OR value of 11. Hence, we return 3.\n",
    "\n",
    "# Example 3:\n",
    "\n",
    "# Input: nums = [1,2], k = 0\n",
    "\n",
    "# Output: 1\n",
    "\n",
    "# Explanation:\n",
    "\n",
    "# The subarray [1] has OR value of 1. Hence, we return 1.\n",
    "\n",
    " \n",
    "\n",
    "# Constraints:\n",
    "\n",
    "# 1 <= nums.length <= 2 * 105\n",
    "# 0 <= nums[i] <= 109\n",
    "# 0 <= k <= 109"
   ]
  },
  {
   "cell_type": "code",
   "execution_count": null,
   "id": "df5959d3-67fb-44a3-96eb-b1b6d9f11c0f",
   "metadata": {},
   "outputs": [],
   "source": [
    "# It is an Sliding window problem"
   ]
  },
  {
   "cell_type": "code",
   "execution_count": 2,
   "id": "bbae118c-b5b2-4275-939f-2c2fe501c567",
   "metadata": {},
   "outputs": [],
   "source": [
    "\n",
    "    def minimumSubarrayLength(nums, k):\n",
    "        if k == 0:\n",
    "            return 1\n",
    "        \n",
    "        ans = len(nums) + 1\n",
    "        bits = [0] * 32\n",
    "        left = 0\n",
    "        n = len(nums)\n",
    "\n",
    "        for right in range(n):\n",
    "            temp = 0\n",
    "            for i in range(32):\n",
    "                if nums[right] & (1 << i):\n",
    "                    bits[i] += 1\n",
    "                if bits[i] > 0:\n",
    "                    temp |= (1 << i)\n",
    "            \n",
    "            if temp >= k:\n",
    "                ans = min(ans, right - left + 1)\n",
    "            \n",
    "            while temp >= k:  # Constraints not satisfying, so move the left pointer\n",
    "                temp = 0\n",
    "                for i in range(32):\n",
    "                    if nums[left] & (1 << i):\n",
    "                        bits[i] -= 1\n",
    "                    if bits[i] > 0:\n",
    "                        temp |= (1 << i)\n",
    "                \n",
    "                left += 1\n",
    "                if temp >= k:\n",
    "                    ans = min(ans, right - left + 1)\n",
    "\n",
    "        return -1 if ans == (len(nums) + 1) else ans"
   ]
  },
  {
   "cell_type": "code",
   "execution_count": 3,
   "id": "f7a25ab6-2d84-4da4-a893-022ece7f71e1",
   "metadata": {},
   "outputs": [
    {
     "data": {
      "text/plain": [
       "1"
      ]
     },
     "execution_count": 3,
     "metadata": {},
     "output_type": "execute_result"
    }
   ],
   "source": [
    "nums=[1,2,3]\n",
    "k=2\n",
    "minimumSubarrayLength(nums, 2)"
   ]
  },
  {
   "cell_type": "code",
   "execution_count": null,
   "id": "5fe87cac-cff0-42a0-bfdd-4336fcabc6cd",
   "metadata": {},
   "outputs": [],
   "source": []
  }
 ],
 "metadata": {
  "kernelspec": {
   "display_name": "Python 3 (ipykernel)",
   "language": "python",
   "name": "python3"
  },
  "language_info": {
   "codemirror_mode": {
    "name": "ipython",
    "version": 3
   },
   "file_extension": ".py",
   "mimetype": "text/x-python",
   "name": "python",
   "nbconvert_exporter": "python",
   "pygments_lexer": "ipython3",
   "version": "3.12.4"
  }
 },
 "nbformat": 4,
 "nbformat_minor": 5
}
